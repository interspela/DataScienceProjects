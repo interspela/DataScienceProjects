{
  "nbformat": 4,
  "nbformat_minor": 0,
  "metadata": {
    "colab": {
      "name": "Ad_Mediation_Optimisation .ipynb",
      "provenance": []
    },
    "kernelspec": {
      "name": "python3",
      "display_name": "Python 3"
    }
  },
  "cells": [
    {
      "cell_type": "markdown",
      "metadata": {
        "id": "Tm5msnhOHDlw",
        "colab_type": "text"
      },
      "source": [
        "#Ad Mediation Optimisation \n",
        "\n",
        "Five companies which provide ads for the users of the app. A process on the app queries these companies, whether they have an ad for the current app user. The query response can be an ad, which then must be shown to the user, or no ad. In case of no ad, the app can query other companies and the same rules apply. If no company is able to provide an ad for the user, then no ad is shown. If a company responds that an ad is available, the ad is then downloaded to the user's device and shown to the user. The query procedure is stopped, and the company pays some amount of money for the shown ad.\n",
        "\n",
        "The company C1 provides ads for 10% of the users, while companies C2-C5 provide for 19%,40%,45% and 50% respectively. Also, ads from company C1 bring 10 USD revenue, while the ads of C2-C5 bring 5, 4, 3 and 5 USD, respectively.\n",
        "\n",
        "What would be the optimal order of querying the five companies?\n",
        "\n"
      ]
    },
    {
      "cell_type": "markdown",
      "metadata": {
        "id": "El_-dg0nIoNE",
        "colab_type": "text"
      },
      "source": [
        "## RESULTS \n",
        "\n",
        "For each possible queue the program determines which ad, if any, will be shown to the user. I ran the program a few thousand times per queue and calculated the average revenue to determine which queue will generate the most money. The best performing one was (C1, C2, C3, C4, C5) with an average revenue of ~4.2. \n"
      ]
    },
    {
      "cell_type": "code",
      "metadata": {
        "id": "jXtd6xPEwZZ7",
        "colab_type": "code",
        "colab": {}
      },
      "source": [
        "import numpy as np\n",
        "import itertools\n",
        "C = ['C1', 'C2', 'C3', 'C4', 'C5']\n",
        "combinations = []\n",
        "for i in itertools.permutations(C):\n",
        "    combinations.append(i)"
      ],
      "execution_count": 5,
      "outputs": []
    },
    {
      "cell_type": "code",
      "metadata": {
        "id": "sE4uXIaux4PP",
        "colab_type": "code",
        "colab": {
          "base_uri": "https://localhost:8080/",
          "height": 34
        },
        "outputId": "57b3fd50-ea8e-4c5b-e1a1-65822c9024bc"
      },
      "source": [
        "#should have 5! possible combinations - 120 \n",
        "len(combinations)"
      ],
      "execution_count": 6,
      "outputs": [
        {
          "output_type": "execute_result",
          "data": {
            "text/plain": [
              "120"
            ]
          },
          "metadata": {
            "tags": []
          },
          "execution_count": 6
        }
      ]
    },
    {
      "cell_type": "code",
      "metadata": {
        "id": "eX2IcBgB6WHI",
        "colab_type": "code",
        "colab": {}
      },
      "source": [
        "# Repeat X times per combination\n",
        "\n",
        "def per_combination(X,combination):\n",
        "  results = []\n",
        "\n",
        "  for x in range(0,X):\n",
        "\n",
        "    for k in combination:\n",
        "\n",
        "      if k == 'C1':\n",
        "        C1 = 10\n",
        "        a = C1 * np.random.choice([0,1], p=[0.9,0.1])\n",
        "        if a != 0:\n",
        "          results.append(C1)\n",
        "          break\n",
        "\n",
        "\n",
        "      elif k == 'C2':\n",
        "        C2 = 5\n",
        "        a = C2 * np.random.choice([0,1], p=[0.81,0.19])\n",
        "        if a != 0:\n",
        "          results.append(C2)\n",
        "          break\n",
        "\n",
        "\n",
        "      elif k == 'C3':\n",
        "        C3 = 4\n",
        "        a = C3 * np.random.choice([0,1], p=[0.6,0.4])\n",
        "        if a != 0:\n",
        "          results.append(C3)\n",
        "          break\n",
        "\n",
        "\n",
        "      elif k == 'C4':\n",
        "        C4 = 3\n",
        "        a = C4 * np.random.choice([0,1], p=[0.55,0.45])\n",
        "        if a != 0:\n",
        "          results.append(C4)\n",
        "          break\n",
        "\n",
        "\n",
        "      elif k == 'C5':\n",
        "        C5 = 5\n",
        "        a = C5 * np.random.choice([0,1], p=[0.5,0.5])\n",
        "        if a !=0:\n",
        "          results.append(C5)\n",
        "        else:\n",
        "          results.append(0)  \n",
        "          \n",
        "    pairs = []\n",
        "    average = sum(results)/len(results)\n",
        "    pairs.append(combination)\n",
        "    pairs.append(average) \n",
        "\n",
        "  return pairs        \n"
      ],
      "execution_count": 7,
      "outputs": []
    },
    {
      "cell_type": "code",
      "metadata": {
        "id": "Av0mam0yUUl6",
        "colab_type": "code",
        "colab": {
          "base_uri": "https://localhost:8080/",
          "height": 34
        },
        "outputId": "1426fc1b-d9bb-41a9-b741-d1b374ca3bd5"
      },
      "source": [
        "#checking if it works correctly\n",
        "per_combination(10, ['C1', 'C2', 'C3', 'C4', 'C5'])"
      ],
      "execution_count": 8,
      "outputs": [
        {
          "output_type": "execute_result",
          "data": {
            "text/plain": [
              "[['C1', 'C2', 'C3', 'C4', 'C5'], 2.5]"
            ]
          },
          "metadata": {
            "tags": []
          },
          "execution_count": 8
        }
      ]
    },
    {
      "cell_type": "code",
      "metadata": {
        "id": "NuiqGMNDUz7u",
        "colab_type": "code",
        "colab": {}
      },
      "source": [
        "#Calculating for each possible combination 10 000 times. \n",
        "\n",
        "average_revenue = []\n",
        "for a in combinations:\n",
        "  b = per_combination(10000, a)\n",
        "  average_revenue.append(b)"
      ],
      "execution_count": 9,
      "outputs": []
    },
    {
      "cell_type": "code",
      "metadata": {
        "id": "aIYGJixEYKeu",
        "colab_type": "code",
        "colab": {
          "base_uri": "https://localhost:8080/",
          "height": 34
        },
        "outputId": "d3c5f96d-86e0-42d2-cd04-a5b9a8f687e8"
      },
      "source": [
        "#quick check it run and saved them all\n",
        "len(average_revenue)"
      ],
      "execution_count": 13,
      "outputs": [
        {
          "output_type": "execute_result",
          "data": {
            "text/plain": [
              "[('C5', 'C4', 'C2', 'C3', 'C1'), 3.00928986663627]"
            ]
          },
          "metadata": {
            "tags": []
          },
          "execution_count": 13
        }
      ]
    },
    {
      "cell_type": "code",
      "metadata": {
        "id": "amgJjaLkYU2E",
        "colab_type": "code",
        "colab": {}
      },
      "source": [
        "#Sorting the values from lowest to highest\n",
        "average_revenue.sort(key=lambda x: x[1])"
      ],
      "execution_count": 11,
      "outputs": []
    },
    {
      "cell_type": "code",
      "metadata": {
        "id": "EWh7ygutZsWi",
        "colab_type": "code",
        "colab": {
          "base_uri": "https://localhost:8080/",
          "height": 102
        },
        "outputId": "6fc9381c-4769-4198-db40-d6510369a81a"
      },
      "source": [
        "#showing the last 5 combinations from the sorted list --> top 5 earning combinations\n",
        "average_revenue[-5:]"
      ],
      "execution_count": 12,
      "outputs": [
        {
          "output_type": "execute_result",
          "data": {
            "text/plain": [
              "[[('C1', 'C3', 'C4', 'C2', 'C5'), 4.0348],\n",
              " [('C1', 'C2', 'C4', 'C3', 'C5'), 4.0993],\n",
              " [('C2', 'C1', 'C3', 'C4', 'C5'), 4.115],\n",
              " [('C1', 'C3', 'C2', 'C4', 'C5'), 4.1348],\n",
              " [('C1', 'C2', 'C3', 'C4', 'C5'), 4.2685]]"
            ]
          },
          "metadata": {
            "tags": []
          },
          "execution_count": 12
        }
      ]
    }
  ]
}