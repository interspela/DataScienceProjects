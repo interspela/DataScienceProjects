{
  "nbformat": 4,
  "nbformat_minor": 0,
  "metadata": {
    "colab": {
      "name": "Map_Europe_with_capitals.ipynb",
      "provenance": []
    },
    "kernelspec": {
      "name": "python3",
      "display_name": "Python 3"
    }
  },
  "cells": [
    {
      "cell_type": "code",
      "metadata": {
        "id": "iuJJngusgCh9",
        "colab_type": "code",
        "colab": {}
      },
      "source": [
        "import pandas as pd\n",
        "import numpy as np"
      ],
      "execution_count": 1,
      "outputs": []
    },
    {
      "cell_type": "code",
      "metadata": {
        "id": "5MLhj6nugHKI",
        "colab_type": "code",
        "colab": {
          "base_uri": "https://localhost:8080/",
          "height": 139
        },
        "outputId": "7abcb1d8-89ce-43c1-d1c4-6bbda89267c3"
      },
      "source": [
        "from google.colab import drive\n",
        "drive.mount('/gdrive')\n",
        "%cd /gdrive"
      ],
      "execution_count": 2,
      "outputs": [
        {
          "output_type": "stream",
          "text": [
            "Go to this URL in a browser: https://accounts.google.com/o/oauth2/auth?client_id=947318989803-6bn6qk8qdgf4n4g3pfee6491hc0brc4i.apps.googleusercontent.com&redirect_uri=urn%3aietf%3awg%3aoauth%3a2.0%3aoob&response_type=code&scope=email%20https%3a%2f%2fwww.googleapis.com%2fauth%2fdocs.test%20https%3a%2f%2fwww.googleapis.com%2fauth%2fdrive%20https%3a%2f%2fwww.googleapis.com%2fauth%2fdrive.photos.readonly%20https%3a%2f%2fwww.googleapis.com%2fauth%2fpeopleapi.readonly\n",
            "\n",
            "Enter your authorization code:\n",
            "··········\n",
            "Mounted at /gdrive\n",
            "/gdrive\n"
          ],
          "name": "stdout"
        }
      ]
    },
    {
      "cell_type": "code",
      "metadata": {
        "id": "1bVN6cnsZ8LW",
        "colab_type": "code",
        "colab": {}
      },
      "source": [
        "import altair as alt\n",
        "europe = alt.topo_feature('https://dmws.hkvservices.nl/dataportal/data.asmx/read?database=vega&key=europe', 'europe') \n",
        "\n",
        "#europe_rivers = alt.Data(url = 'https://dmws.hkvservices.nl/dataportal/data.asmx/read?database=vega&key=europe_rivers', \n",
        "                         #format = alt.DataFormat(property='features',type='json'))"
      ],
      "execution_count": 3,
      "outputs": []
    },
    {
      "cell_type": "code",
      "metadata": {
        "id": "JARlPJaOEOVe",
        "colab_type": "code",
        "colab": {
          "base_uri": "https://localhost:8080/",
          "height": 731
        },
        "outputId": "78337604-ae03-4426-81e6-88c1172abf3e"
      },
      "source": [
        "import altair as alt\n",
        "\n",
        "europe = alt.topo_feature('https://dmws.hkvservices.nl/dataportal/data.asmx/read?database=vega&key=europe', 'europe') \n",
        "\n",
        "# plot map, where variables ares nested within `properties`, \n",
        "alt.Chart(europe).mark_geoshape(\n",
        "    fill='lightgray',\n",
        "    stroke='white'\n",
        ").properties(\n",
        "    projection={\"type\":'mercator'},\n",
        "    width=700,\n",
        "    height=700\n",
        ")\n",
        "#.encode(\n",
        " #   color='properties.pop_est:Q')"
      ],
      "execution_count": 4,
      "outputs": [
        {
          "output_type": "execute_result",
          "data": {
            "text/plain": [
              "alt.Chart(...)"
            ],
            "text/html": [
              "\n",
              "<div id=\"altair-viz-6fd4ae057b3348979f341cba381e9ff9\"></div>\n",
              "<script type=\"text/javascript\">\n",
              "  (function(spec, embedOpt){\n",
              "    let outputDiv = document.currentScript.previousElementSibling;\n",
              "    if (outputDiv.id !== \"altair-viz-6fd4ae057b3348979f341cba381e9ff9\") {\n",
              "      outputDiv = document.getElementById(\"altair-viz-6fd4ae057b3348979f341cba381e9ff9\");\n",
              "    }\n",
              "    const paths = {\n",
              "      \"vega\": \"https://cdn.jsdelivr.net/npm//vega@5?noext\",\n",
              "      \"vega-lib\": \"https://cdn.jsdelivr.net/npm//vega-lib?noext\",\n",
              "      \"vega-lite\": \"https://cdn.jsdelivr.net/npm//vega-lite@4.8.1?noext\",\n",
              "      \"vega-embed\": \"https://cdn.jsdelivr.net/npm//vega-embed@6?noext\",\n",
              "    };\n",
              "\n",
              "    function loadScript(lib) {\n",
              "      return new Promise(function(resolve, reject) {\n",
              "        var s = document.createElement('script');\n",
              "        s.src = paths[lib];\n",
              "        s.async = true;\n",
              "        s.onload = () => resolve(paths[lib]);\n",
              "        s.onerror = () => reject(`Error loading script: ${paths[lib]}`);\n",
              "        document.getElementsByTagName(\"head\")[0].appendChild(s);\n",
              "      });\n",
              "    }\n",
              "\n",
              "    function showError(err) {\n",
              "      outputDiv.innerHTML = `<div class=\"error\" style=\"color:red;\">${err}</div>`;\n",
              "      throw err;\n",
              "    }\n",
              "\n",
              "    function displayChart(vegaEmbed) {\n",
              "      vegaEmbed(outputDiv, spec, embedOpt)\n",
              "        .catch(err => showError(`Javascript Error: ${err.message}<br>This usually means there's a typo in your chart specification. See the javascript console for the full traceback.`));\n",
              "    }\n",
              "\n",
              "    if(typeof define === \"function\" && define.amd) {\n",
              "      requirejs.config({paths});\n",
              "      require([\"vega-embed\"], displayChart, err => showError(`Error loading script: ${err.message}`));\n",
              "    } else if (typeof vegaEmbed === \"function\") {\n",
              "      displayChart(vegaEmbed);\n",
              "    } else {\n",
              "      loadScript(\"vega\")\n",
              "        .then(() => loadScript(\"vega-lite\"))\n",
              "        .then(() => loadScript(\"vega-embed\"))\n",
              "        .catch(showError)\n",
              "        .then(() => displayChart(vegaEmbed));\n",
              "    }\n",
              "  })({\"config\": {\"view\": {\"continuousWidth\": 400, \"continuousHeight\": 300}}, \"data\": {\"url\": \"https://dmws.hkvservices.nl/dataportal/data.asmx/read?database=vega&key=europe\", \"format\": {\"feature\": \"europe\", \"type\": \"topojson\"}}, \"mark\": {\"type\": \"geoshape\", \"fill\": \"lightgray\", \"stroke\": \"white\"}, \"height\": 700, \"projection\": {\"type\": \"mercator\"}, \"width\": 700, \"$schema\": \"https://vega.github.io/schema/vega-lite/v4.8.1.json\"}, {\"mode\": \"vega-lite\"});\n",
              "</script>"
            ]
          },
          "metadata": {
            "tags": []
          },
          "execution_count": 4
        }
      ]
    },
    {
      "cell_type": "code",
      "metadata": {
        "id": "EjTnAmQXESuP",
        "colab_type": "code",
        "colab": {
          "base_uri": "https://localhost:8080/",
          "height": 204
        },
        "outputId": "56d7bbda-3a5b-4059-b271-8b43b2cd5b73"
      },
      "source": [
        "df=pd.read_csv('/gdrive/My Drive/final_capitals.csv')\n",
        "df.head()\n"
      ],
      "execution_count": 8,
      "outputs": [
        {
          "output_type": "execute_result",
          "data": {
            "text/html": [
              "<div>\n",
              "<style scoped>\n",
              "    .dataframe tbody tr th:only-of-type {\n",
              "        vertical-align: middle;\n",
              "    }\n",
              "\n",
              "    .dataframe tbody tr th {\n",
              "        vertical-align: top;\n",
              "    }\n",
              "\n",
              "    .dataframe thead th {\n",
              "        text-align: right;\n",
              "    }\n",
              "</style>\n",
              "<table border=\"1\" class=\"dataframe\">\n",
              "  <thead>\n",
              "    <tr style=\"text-align: right;\">\n",
              "      <th></th>\n",
              "      <th>code</th>\n",
              "      <th>lat</th>\n",
              "      <th>lon</th>\n",
              "      <th>country</th>\n",
              "      <th>capital</th>\n",
              "    </tr>\n",
              "  </thead>\n",
              "  <tbody>\n",
              "    <tr>\n",
              "      <th>0</th>\n",
              "      <td>AD</td>\n",
              "      <td>42.546245</td>\n",
              "      <td>1.601554</td>\n",
              "      <td>Andorra</td>\n",
              "      <td>Andorra la Vella</td>\n",
              "    </tr>\n",
              "    <tr>\n",
              "      <th>1</th>\n",
              "      <td>AL</td>\n",
              "      <td>41.153332</td>\n",
              "      <td>20.168331</td>\n",
              "      <td>Albania</td>\n",
              "      <td>Tirana</td>\n",
              "    </tr>\n",
              "    <tr>\n",
              "      <th>2</th>\n",
              "      <td>AM</td>\n",
              "      <td>40.069099</td>\n",
              "      <td>45.038189</td>\n",
              "      <td>Armenia</td>\n",
              "      <td>Yerevan</td>\n",
              "    </tr>\n",
              "    <tr>\n",
              "      <th>3</th>\n",
              "      <td>AT</td>\n",
              "      <td>47.516231</td>\n",
              "      <td>14.550072</td>\n",
              "      <td>Austria</td>\n",
              "      <td>Vienna</td>\n",
              "    </tr>\n",
              "    <tr>\n",
              "      <th>4</th>\n",
              "      <td>BA</td>\n",
              "      <td>43.915886</td>\n",
              "      <td>17.679076</td>\n",
              "      <td>Bosnia and Herzegovina</td>\n",
              "      <td>Sarajevo</td>\n",
              "    </tr>\n",
              "  </tbody>\n",
              "</table>\n",
              "</div>"
            ],
            "text/plain": [
              "  code        lat        lon                 country           capital\n",
              "0   AD  42.546245   1.601554                 Andorra  Andorra la Vella\n",
              "1   AL  41.153332  20.168331                 Albania            Tirana\n",
              "2   AM  40.069099  45.038189                 Armenia           Yerevan\n",
              "3   AT  47.516231  14.550072                 Austria            Vienna\n",
              "4   BA  43.915886  17.679076  Bosnia and Herzegovina          Sarajevo"
            ]
          },
          "metadata": {
            "tags": []
          },
          "execution_count": 8
        }
      ]
    },
    {
      "cell_type": "code",
      "metadata": {
        "id": "rSSbifqPF-PI",
        "colab_type": "code",
        "colab": {
          "base_uri": "https://localhost:8080/",
          "height": 733
        },
        "outputId": "25878805-cbe0-4fe2-da01-c824cc6a3db8"
      },
      "source": [
        "import altair as alt\n",
        "\n",
        "europe = alt.topo_feature('https://dmws.hkvservices.nl/dataportal/data.asmx/read?database=vega&key=europe', 'europe') \n",
        "\n",
        "# plot map, where variables ares nested within `properties`, \n",
        "background = alt.Chart(europe).mark_geoshape(\n",
        "    fill='yellowgreen',\n",
        "    stroke='white'\n",
        ").properties(\n",
        "    projection={\"type\":'mercator'},\n",
        "    width=700,\n",
        "    height=700\n",
        ")\n",
        "#.encode(\n",
        " #   color='properties.pop_est:Q')\n",
        "  \n",
        "  \n",
        "# Points and text\n",
        "hover = alt.selection(type='single', on='mouseover', nearest=True,\n",
        "                      fields=['lat', 'lon'])\n",
        "\n",
        "base = alt.Chart(df).encode(\n",
        "    longitude='lon:Q',\n",
        "    latitude='lat:Q',\n",
        ")\n",
        "\n",
        "text = base.mark_text(dy=-10, align='right').encode(\n",
        "    alt.Text('capital', type='nominal'),\n",
        "    opacity=alt.condition(~hover, alt.value(0), alt.value(1))\n",
        ")\n",
        "\n",
        "points = base.transform_calculate(\n",
        "    url='https://www.google.com/search?q=' + alt.datum.Name\n",
        ").mark_point().encode(\n",
        "    href='url:N',\n",
        "    #tooltip=['lat:N', 'url:N'],\n",
        "    color=alt.value('black'),\n",
        "    size=alt.condition(~hover, alt.value(30), alt.value(100))\n",
        ").add_selection(hover)\n",
        "\n",
        "chart = background + points + text\n",
        "\n",
        "chart"
      ],
      "execution_count": 11,
      "outputs": [
        {
          "output_type": "execute_result",
          "data": {
            "text/plain": [
              "alt.LayerChart(...)"
            ],
            "text/html": [
              "\n",
              "<div id=\"altair-viz-6a08113b267248b68a431e6d76177418\"></div>\n",
              "<script type=\"text/javascript\">\n",
              "  (function(spec, embedOpt){\n",
              "    let outputDiv = document.currentScript.previousElementSibling;\n",
              "    if (outputDiv.id !== \"altair-viz-6a08113b267248b68a431e6d76177418\") {\n",
              "      outputDiv = document.getElementById(\"altair-viz-6a08113b267248b68a431e6d76177418\");\n",
              "    }\n",
              "    const paths = {\n",
              "      \"vega\": \"https://cdn.jsdelivr.net/npm//vega@5?noext\",\n",
              "      \"vega-lib\": \"https://cdn.jsdelivr.net/npm//vega-lib?noext\",\n",
              "      \"vega-lite\": \"https://cdn.jsdelivr.net/npm//vega-lite@4.8.1?noext\",\n",
              "      \"vega-embed\": \"https://cdn.jsdelivr.net/npm//vega-embed@6?noext\",\n",
              "    };\n",
              "\n",
              "    function loadScript(lib) {\n",
              "      return new Promise(function(resolve, reject) {\n",
              "        var s = document.createElement('script');\n",
              "        s.src = paths[lib];\n",
              "        s.async = true;\n",
              "        s.onload = () => resolve(paths[lib]);\n",
              "        s.onerror = () => reject(`Error loading script: ${paths[lib]}`);\n",
              "        document.getElementsByTagName(\"head\")[0].appendChild(s);\n",
              "      });\n",
              "    }\n",
              "\n",
              "    function showError(err) {\n",
              "      outputDiv.innerHTML = `<div class=\"error\" style=\"color:red;\">${err}</div>`;\n",
              "      throw err;\n",
              "    }\n",
              "\n",
              "    function displayChart(vegaEmbed) {\n",
              "      vegaEmbed(outputDiv, spec, embedOpt)\n",
              "        .catch(err => showError(`Javascript Error: ${err.message}<br>This usually means there's a typo in your chart specification. See the javascript console for the full traceback.`));\n",
              "    }\n",
              "\n",
              "    if(typeof define === \"function\" && define.amd) {\n",
              "      requirejs.config({paths});\n",
              "      require([\"vega-embed\"], displayChart, err => showError(`Error loading script: ${err.message}`));\n",
              "    } else if (typeof vegaEmbed === \"function\") {\n",
              "      displayChart(vegaEmbed);\n",
              "    } else {\n",
              "      loadScript(\"vega\")\n",
              "        .then(() => loadScript(\"vega-lite\"))\n",
              "        .then(() => loadScript(\"vega-embed\"))\n",
              "        .catch(showError)\n",
              "        .then(() => displayChart(vegaEmbed));\n",
              "    }\n",
              "  })({\"config\": {\"view\": {\"continuousWidth\": 400, \"continuousHeight\": 300}}, \"layer\": [{\"data\": {\"url\": \"https://dmws.hkvservices.nl/dataportal/data.asmx/read?database=vega&key=europe\", \"format\": {\"feature\": \"europe\", \"type\": \"topojson\"}}, \"mark\": {\"type\": \"geoshape\", \"fill\": \"yellowgreen\", \"stroke\": \"white\"}, \"height\": 700, \"projection\": {\"type\": \"mercator\"}, \"width\": 700}, {\"data\": {\"name\": \"data-670c21fabf7077afe75ab9467ca4d805\"}, \"mark\": \"point\", \"encoding\": {\"color\": {\"value\": \"black\"}, \"href\": {\"type\": \"nominal\", \"field\": \"url\"}, \"latitude\": {\"field\": \"lat\", \"type\": \"quantitative\"}, \"longitude\": {\"field\": \"lon\", \"type\": \"quantitative\"}, \"size\": {\"condition\": {\"value\": 30, \"selection\": {\"not\": \"selector003\"}}, \"value\": 100}}, \"selection\": {\"selector003\": {\"type\": \"single\", \"on\": \"mouseover\", \"nearest\": true, \"fields\": [\"lat\", \"lon\"]}}, \"transform\": [{\"calculate\": \"('https://www.google.com/search?q=' + datum.Name)\", \"as\": \"url\"}]}, {\"data\": {\"name\": \"data-670c21fabf7077afe75ab9467ca4d805\"}, \"mark\": {\"type\": \"text\", \"align\": \"right\", \"dy\": -10}, \"encoding\": {\"latitude\": {\"field\": \"lat\", \"type\": \"quantitative\"}, \"longitude\": {\"field\": \"lon\", \"type\": \"quantitative\"}, \"opacity\": {\"condition\": {\"value\": 0, \"selection\": {\"not\": \"selector003\"}}, \"value\": 1}, \"text\": {\"type\": \"nominal\", \"field\": \"capital\"}}}], \"$schema\": \"https://vega.github.io/schema/vega-lite/v4.8.1.json\", \"datasets\": {\"data-670c21fabf7077afe75ab9467ca4d805\": [{\"code\": \"AD\", \"lat\": 42.546245, \"lon\": 1.6015540000000001, \"country\": \"Andorra\", \"capital\": \"Andorra la Vella\"}, {\"code\": \"AL\", \"lat\": 41.153332, \"lon\": 20.168331, \"country\": \"Albania\", \"capital\": \"Tirana\"}, {\"code\": \"AM\", \"lat\": 40.069099, \"lon\": 45.038189, \"country\": \"Armenia\", \"capital\": \"Yerevan\"}, {\"code\": \"AT\", \"lat\": 47.516231, \"lon\": 14.550072, \"country\": \"Austria\", \"capital\": \"Vienna\"}, {\"code\": \"BA\", \"lat\": 43.915886, \"lon\": 17.679076000000002, \"country\": \"Bosnia and Herzegovina\", \"capital\": \"Sarajevo\"}, {\"code\": \"BE\", \"lat\": 50.503887, \"lon\": 4.469936, \"country\": \"Belgium\", \"capital\": \"Brussels\"}, {\"code\": \"BG\", \"lat\": 42.733883, \"lon\": 25.48583, \"country\": \"Bulgaria\", \"capital\": \"Sofia\"}, {\"code\": \"BY\", \"lat\": 53.709807, \"lon\": 27.953389, \"country\": \"Belarus\", \"capital\": \"Minsk\"}, {\"code\": \"CH\", \"lat\": 46.818188, \"lon\": 8.227511999999999, \"country\": \"Switzerland\", \"capital\": \"Bern\"}, {\"code\": \"CY\", \"lat\": 35.126413, \"lon\": 33.429859, \"country\": \"Cyprus\", \"capital\": \"Nicosia\"}, {\"code\": \"CZ\", \"lat\": 49.817492, \"lon\": 15.472961999999999, \"country\": \"Czech Republic\", \"capital\": \"Prague\"}, {\"code\": \"DE\", \"lat\": 51.165690999999995, \"lon\": 10.451526, \"country\": \"Germany\", \"capital\": \"Berlin\"}, {\"code\": \"DK\", \"lat\": 56.26392, \"lon\": 9.501785, \"country\": \"Denmark\", \"capital\": \"Copenhagen\"}, {\"code\": \"ES\", \"lat\": 40.463667, \"lon\": -3.7492199999999998, \"country\": \"Spain\", \"capital\": \"Madrid\"}, {\"code\": \"FI\", \"lat\": 61.92411, \"lon\": 25.748151, \"country\": \"Finland\", \"capital\": \"Helsinki\"}, {\"code\": \"FR\", \"lat\": 46.227638, \"lon\": 2.213749, \"country\": \"France\", \"capital\": \"Paris\"}, {\"code\": \"GB\", \"lat\": 55.378051, \"lon\": -3.435973, \"country\": \"United Kingdom\", \"capital\": \"London\"}, {\"code\": \"GE\", \"lat\": 42.315407, \"lon\": 43.356891999999995, \"country\": \"Georgia\", \"capital\": \"Tbilisi\"}, {\"code\": \"GI\", \"lat\": 36.137741, \"lon\": -5.345374, \"country\": \"Gibraltar\", \"capital\": \"Gibraltar\"}, {\"code\": \"GR\", \"lat\": 39.074208, \"lon\": 21.824312, \"country\": \"Greece\", \"capital\": \"Athens\"}, {\"code\": \"HR\", \"lat\": 45.1, \"lon\": 15.2, \"country\": \"Croatia\", \"capital\": \"Zagreb\"}, {\"code\": \"HU\", \"lat\": 47.162494, \"lon\": 19.503304, \"country\": \"Hungary\", \"capital\": \"Budapest\"}, {\"code\": \"IE\", \"lat\": 53.41291, \"lon\": -8.243889999999999, \"country\": \"Ireland\", \"capital\": \"Dublin\"}, {\"code\": \"IS\", \"lat\": 64.96305100000001, \"lon\": -19.020835, \"country\": \"Iceland\", \"capital\": \"Reykjavik\"}, {\"code\": \"IT\", \"lat\": 41.87194, \"lon\": 12.56738, \"country\": \"Italy\", \"capital\": \"Rome\"}, {\"code\": \"LI\", \"lat\": 47.166000000000004, \"lon\": 9.555373, \"country\": \"Liechtenstein\", \"capital\": \"Vaduz\"}, {\"code\": \"LT\", \"lat\": 55.169438, \"lon\": 23.881275, \"country\": \"Lithuania\", \"capital\": \"Vilnius\"}, {\"code\": \"LU\", \"lat\": 49.815273, \"lon\": 6.129583, \"country\": \"Luxembourg\", \"capital\": \"Luxemburg City\"}, {\"code\": \"LV\", \"lat\": 56.879635, \"lon\": 24.603189, \"country\": \"Latvia\", \"capital\": \"Riga\"}, {\"code\": \"MC\", \"lat\": 43.750298, \"lon\": 7.412841, \"country\": \"Monaco\", \"capital\": \"Monaco\"}, {\"code\": \"ME\", \"lat\": 42.708678000000006, \"lon\": 19.37439, \"country\": \"Montenegro\", \"capital\": \"Podgorica\"}, {\"code\": \"MK\", \"lat\": 41.608635, \"lon\": 21.745275, \"country\": \"Macedonia [FYROM]\", \"capital\": \"Skopje\"}, {\"code\": \"MT\", \"lat\": 35.937496, \"lon\": 14.375416, \"country\": \"Malta\", \"capital\": \"la Valleta\"}, {\"code\": \"NO\", \"lat\": 60.472024, \"lon\": 8.468946, \"country\": \"Norway\", \"capital\": \"Oslo\"}, {\"code\": \"PL\", \"lat\": 51.919438, \"lon\": 19.145135999999997, \"country\": \"Poland\", \"capital\": \"Warsaw\"}, {\"code\": \"PT\", \"lat\": 39.399871999999995, \"lon\": -8.224454, \"country\": \"Portugal\", \"capital\": \"Lisbon\"}, {\"code\": \"RO\", \"lat\": 45.943160999999996, \"lon\": 24.96676, \"country\": \"Romania\", \"capital\": \"Bucharest\"}, {\"code\": \"RS\", \"lat\": 44.016521000000004, \"lon\": 21.005859, \"country\": \"Serbia\", \"capital\": \"Belgrade\"}, {\"code\": \"RU\", \"lat\": 55.7558, \"lon\": 37.6173, \"country\": \"Russia\", \"capital\": \"Moscow\"}, {\"code\": \"SE\", \"lat\": 60.128161, \"lon\": 18.643501, \"country\": \"Sweden\", \"capital\": \"Stockholm\"}, {\"code\": \"SI\", \"lat\": 46.151241, \"lon\": 14.995463, \"country\": \"Slovenia\", \"capital\": \"Ljubljana\"}, {\"code\": \"SK\", \"lat\": 48.669026, \"lon\": 19.699023999999998, \"country\": \"Slovakia\", \"capital\": \"Bratislava\"}, {\"code\": \"TR\", \"lat\": 38.963745, \"lon\": 35.243322, \"country\": \"Turkey\", \"capital\": \"Ankara\"}, {\"code\": \"UA\", \"lat\": 48.379433, \"lon\": 31.16558, \"country\": \"Ukraine\", \"capital\": \"KIev\"}, {\"code\": \"VA\", \"lat\": 41.902916, \"lon\": 12.453389, \"country\": \"Vatican City\", \"capital\": \"Vatican City\"}, {\"code\": \"XK\", \"lat\": 42.602636, \"lon\": 20.902977, \"country\": \"Kosovo\", \"capital\": \"Pristina\"}, {\"code\": \"ES\", \"lat\": 59.236999999999995, \"lon\": 24.753, \"country\": \"Estonia\", \"capital\": \"Tallinn\"}]}}, {\"mode\": \"vega-lite\"});\n",
              "</script>"
            ]
          },
          "metadata": {
            "tags": []
          },
          "execution_count": 11
        }
      ]
    },
    {
      "cell_type": "code",
      "metadata": {
        "id": "6La_lMB_-QuO",
        "colab_type": "code",
        "colab": {}
      },
      "source": [
        ""
      ],
      "execution_count": null,
      "outputs": []
    }
  ]
}