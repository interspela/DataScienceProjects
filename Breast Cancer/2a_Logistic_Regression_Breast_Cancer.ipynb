{
  "nbformat": 4,
  "nbformat_minor": 0,
  "metadata": {
    "kernelspec": {
      "display_name": "Python 3",
      "language": "python",
      "name": "python3"
    },
    "language_info": {
      "codemirror_mode": {
        "name": "ipython",
        "version": 3
      },
      "file_extension": ".py",
      "mimetype": "text/x-python",
      "name": "python",
      "nbconvert_exporter": "python",
      "pygments_lexer": "ipython3",
      "version": "3.6.5"
    },
    "colab": {
      "name": "Logistic Regression Breast Cancer.ipynb",
      "provenance": []
    }
  },
  "cells": [
    {
      "cell_type": "code",
      "metadata": {
        "id": "C_eDXVK_ZFLN",
        "colab_type": "code",
        "colab": {}
      },
      "source": [
        "import numpy as np\n",
        "import pandas as pd\n",
        "from sklearn.model_selection import train_test_split\n",
        "from sklearn.linear_model import LogisticRegression\n",
        "from sklearn.metrics import confusion_matrix, classification_report\n",
        "import seaborn as sns"
      ],
      "execution_count": null,
      "outputs": []
    },
    {
      "cell_type": "code",
      "metadata": {
        "id": "SJKqsHMsZFLa",
        "colab_type": "code",
        "colab": {}
      },
      "source": [
        "pd.options.display.max_seq_items = 500\n",
        "pd.set_option('max_rows', 500)\n",
        "pd.set_option('max_columns', 500)"
      ],
      "execution_count": null,
      "outputs": []
    },
    {
      "cell_type": "code",
      "metadata": {
        "id": "GZRe34KlZFLi",
        "colab_type": "code",
        "colab": {}
      },
      "source": [
        "breastcancer = pd.read_csv('data.csv') \n",
        "breastcancer.drop('id', axis=1, inplace=True)"
      ],
      "execution_count": null,
      "outputs": []
    },
    {
      "cell_type": "code",
      "metadata": {
        "id": "J6PCejU_ZFLn",
        "colab_type": "code",
        "colab": {}
      },
      "source": [
        "X_df = breastcancer.drop(['diagnosis'], axis=1)\n",
        "X = np.array(X_df)\n",
        "y = breastcancer['diagnosis']\n",
        "y = np.array(y)"
      ],
      "execution_count": null,
      "outputs": []
    },
    {
      "cell_type": "code",
      "metadata": {
        "id": "zV3m76TrZFLr",
        "colab_type": "code",
        "colab": {}
      },
      "source": [
        "X_train, X_test, y_train, y_test = train_test_split(X,y, test_size=0.15, random_state=0)"
      ],
      "execution_count": null,
      "outputs": []
    },
    {
      "cell_type": "code",
      "metadata": {
        "id": "98WWqSPXZFL0",
        "colab_type": "code",
        "colab": {}
      },
      "source": [
        "X_train, X_validation, y_train, y_validation = train_test_split(X,y, test_size=(1500/8500), random_state=0)"
      ],
      "execution_count": null,
      "outputs": []
    },
    {
      "cell_type": "code",
      "metadata": {
        "id": "wB-jYG0PZFL4",
        "colab_type": "code",
        "colab": {},
        "outputId": "77c35ada-287a-4369-ab23-d3a4d15a6974"
      },
      "source": [
        "model = LogisticRegression(C=3000)\n",
        "model.fit(X_train, y_train)"
      ],
      "execution_count": null,
      "outputs": [
        {
          "output_type": "execute_result",
          "data": {
            "text/plain": [
              "LogisticRegression(C=3000, class_weight=None, dual=False, fit_intercept=True,\n",
              "          intercept_scaling=1, max_iter=100, multi_class='ovr', n_jobs=1,\n",
              "          penalty='l2', random_state=None, solver='liblinear', tol=0.0001,\n",
              "          verbose=0, warm_start=False)"
            ]
          },
          "metadata": {
            "tags": []
          },
          "execution_count": 7
        }
      ]
    },
    {
      "cell_type": "code",
      "metadata": {
        "id": "0wYXoiWCZFL_",
        "colab_type": "code",
        "colab": {},
        "outputId": "228ab344-60bb-4234-9e26-5dda48df26fb"
      },
      "source": [
        "y_actual = y_validation\n",
        "y_pred = model.predict(X_validation)\n",
        "print(confusion_matrix(y_actual, y_pred))"
      ],
      "execution_count": null,
      "outputs": [
        {
          "output_type": "stream",
          "text": [
            "[[57  3]\n",
            " [ 1 40]]\n"
          ],
          "name": "stdout"
        }
      ]
    },
    {
      "cell_type": "code",
      "metadata": {
        "id": "spJ8Py4bZFMH",
        "colab_type": "code",
        "colab": {},
        "outputId": "dbd40d8a-3ada-4348-bc47-32b1ed0af036"
      },
      "source": [
        "print(classification_report(y_actual, y_pred))"
      ],
      "execution_count": null,
      "outputs": [
        {
          "output_type": "stream",
          "text": [
            "             precision    recall  f1-score   support\n",
            "\n",
            "          B       0.98      0.95      0.97        60\n",
            "          M       0.93      0.98      0.95        41\n",
            "\n",
            "avg / total       0.96      0.96      0.96       101\n",
            "\n"
          ],
          "name": "stdout"
        }
      ]
    },
    {
      "cell_type": "code",
      "metadata": {
        "id": "5ML5fNpeZFMO",
        "colab_type": "code",
        "colab": {},
        "outputId": "0da64a89-c9ee-4b4f-d487-0b72a03bcbfc"
      },
      "source": [
        "y_actual = y_test\n",
        "y_pred = model.predict(X_test)\n",
        "print(confusion_matrix(y_actual, y_pred))"
      ],
      "execution_count": null,
      "outputs": [
        {
          "output_type": "stream",
          "text": [
            "[[48  2]\n",
            " [ 1 35]]\n"
          ],
          "name": "stdout"
        }
      ]
    },
    {
      "cell_type": "code",
      "metadata": {
        "id": "njPcVlWrZFMT",
        "colab_type": "code",
        "colab": {},
        "outputId": "af25f337-940d-4a4c-815a-8232c460921a"
      },
      "source": [
        "print(classification_report(y_actual, y_pred))"
      ],
      "execution_count": null,
      "outputs": [
        {
          "output_type": "stream",
          "text": [
            "             precision    recall  f1-score   support\n",
            "\n",
            "          B       0.98      0.96      0.97        50\n",
            "          M       0.95      0.97      0.96        36\n",
            "\n",
            "avg / total       0.97      0.97      0.97        86\n",
            "\n"
          ],
          "name": "stdout"
        }
      ]
    },
    {
      "cell_type": "code",
      "metadata": {
        "id": "KVkdKmFqZFMX",
        "colab_type": "code",
        "colab": {},
        "outputId": "5f2bdbd9-376a-4233-b4b1-208cecf2fa99"
      },
      "source": [
        "model.coef_[0]"
      ],
      "execution_count": null,
      "outputs": [
        {
          "output_type": "execute_result",
          "data": {
            "text/plain": [
              "array([ -3.43800247e+00,  -1.00983575e-01,   2.37609478e-01,\n",
              "         1.05111984e-02,   5.53385662e+00,  -1.52886856e+00,\n",
              "         3.65899502e+00,   9.64631848e+00,   8.76612590e+00,\n",
              "        -1.40000712e+00,  -1.75489533e+00,  -1.96144795e+00,\n",
              "         4.25188099e-01,   1.39058851e-01,   8.00936112e-01,\n",
              "        -9.60065625e+00,  -1.16486887e+01,   6.46873490e-01,\n",
              "        -2.00314499e+00,  -1.87568148e+00,  -1.99705144e-01,\n",
              "         4.44935270e-01,  -2.18627843e-02,   1.97925442e-02,\n",
              "         9.42166139e+00,  -2.47927317e+00,   5.39116778e+00,\n",
              "         1.89430794e+01,   7.94012674e+00,  -1.03412482e+00])"
            ]
          },
          "metadata": {
            "tags": []
          },
          "execution_count": 12
        }
      ]
    },
    {
      "cell_type": "code",
      "metadata": {
        "id": "xa-ymM8WZFMb",
        "colab_type": "code",
        "colab": {},
        "outputId": "0442c596-bd55-46a4-fa31-1724f5fbc1b9"
      },
      "source": [
        "X_df.columns"
      ],
      "execution_count": null,
      "outputs": [
        {
          "output_type": "execute_result",
          "data": {
            "text/plain": [
              "Index(['radius_mean', 'texture_mean', 'perimeter_mean', 'area_mean',\n",
              "       'smoothness_mean', 'compactness_mean', 'concavity_mean',\n",
              "       'concave_points_mean', 'symmetry_mean', 'fractal_dimension_mean',\n",
              "       'radius_se', 'texture_se', 'perimeter_se', 'area_se', 'smoothness_se',\n",
              "       'compactness_se', 'concavity_se', 'concave_points_se', 'symmetry_se',\n",
              "       'fractal_dimension_se', 'radius_worst', 'texture_worst',\n",
              "       'perimeter_worst', 'area_worst', 'smoothness_worst',\n",
              "       'compactness_worst', 'concavity_worst', 'concave_points_worst',\n",
              "       'symmetry_worst', 'fractal_dimension_worst'],\n",
              "      dtype='object')"
            ]
          },
          "metadata": {
            "tags": []
          },
          "execution_count": 13
        }
      ]
    },
    {
      "cell_type": "code",
      "metadata": {
        "id": "JV0ObomkZFMh",
        "colab_type": "code",
        "colab": {}
      },
      "source": [
        "features_coef = list(zip(model.coef_[0],X_df.columns))"
      ],
      "execution_count": null,
      "outputs": []
    },
    {
      "cell_type": "code",
      "metadata": {
        "id": "txvGlIxbZFMn",
        "colab_type": "code",
        "colab": {}
      },
      "source": [
        "feature_importances = sorted(features_coef, key=lambda pair:abs(pair[0]))[15:]"
      ],
      "execution_count": null,
      "outputs": []
    },
    {
      "cell_type": "code",
      "metadata": {
        "id": "-rFZpGLjZFMr",
        "colab_type": "code",
        "colab": {},
        "outputId": "e7bc1e2c-924c-41ac-cb8c-a625b7984770"
      },
      "source": [
        "feature_importances"
      ],
      "execution_count": null,
      "outputs": [
        {
          "output_type": "execute_result",
          "data": {
            "text/plain": [
              "[(-1.8756814752903279, 'fractal_dimension_se'),\n",
              " (-1.961447952275813, 'texture_se'),\n",
              " (-2.0031449942048734, 'symmetry_se'),\n",
              " (-2.4792731689191161, 'compactness_worst'),\n",
              " (-3.4380024713419282, 'radius_mean'),\n",
              " (3.6589950176741084, 'concavity_mean'),\n",
              " (5.3911677758952239, 'concavity_worst'),\n",
              " (5.5338566164554628, 'smoothness_mean'),\n",
              " (7.9401267417792836, 'symmetry_worst'),\n",
              " (8.7661259001417875, 'symmetry_mean'),\n",
              " (9.4216613911201197, 'smoothness_worst'),\n",
              " (-9.6006562454807014, 'compactness_se'),\n",
              " (9.6463184823734771, 'concave_points_mean'),\n",
              " (-11.648688652441946, 'concavity_se'),\n",
              " (18.943079412536246, 'concave_points_worst')]"
            ]
          },
          "metadata": {
            "tags": []
          },
          "execution_count": 16
        }
      ]
    },
    {
      "cell_type": "code",
      "metadata": {
        "id": "d-MxOHPEZFM6",
        "colab_type": "code",
        "colab": {},
        "outputId": "246c2fa4-98bd-4b00-df41-3a7a635ce03d"
      },
      "source": [
        "feature_importances_df = pd.DataFrame(feature_importances, columns=[\"a\", \"b\"])\n",
        "feature_importances_df"
      ],
      "execution_count": null,
      "outputs": [
        {
          "output_type": "execute_result",
          "data": {
            "text/html": [
              "<div>\n",
              "<style>\n",
              "    .dataframe thead tr:only-child th {\n",
              "        text-align: right;\n",
              "    }\n",
              "\n",
              "    .dataframe thead th {\n",
              "        text-align: left;\n",
              "    }\n",
              "\n",
              "    .dataframe tbody tr th {\n",
              "        vertical-align: top;\n",
              "    }\n",
              "</style>\n",
              "<table border=\"1\" class=\"dataframe\">\n",
              "  <thead>\n",
              "    <tr style=\"text-align: right;\">\n",
              "      <th></th>\n",
              "      <th>a</th>\n",
              "      <th>b</th>\n",
              "    </tr>\n",
              "  </thead>\n",
              "  <tbody>\n",
              "    <tr>\n",
              "      <th>0</th>\n",
              "      <td>-1.875681</td>\n",
              "      <td>fractal_dimension_se</td>\n",
              "    </tr>\n",
              "    <tr>\n",
              "      <th>1</th>\n",
              "      <td>-1.961448</td>\n",
              "      <td>texture_se</td>\n",
              "    </tr>\n",
              "    <tr>\n",
              "      <th>2</th>\n",
              "      <td>-2.003145</td>\n",
              "      <td>symmetry_se</td>\n",
              "    </tr>\n",
              "    <tr>\n",
              "      <th>3</th>\n",
              "      <td>-2.479273</td>\n",
              "      <td>compactness_worst</td>\n",
              "    </tr>\n",
              "    <tr>\n",
              "      <th>4</th>\n",
              "      <td>-3.438002</td>\n",
              "      <td>radius_mean</td>\n",
              "    </tr>\n",
              "    <tr>\n",
              "      <th>5</th>\n",
              "      <td>3.658995</td>\n",
              "      <td>concavity_mean</td>\n",
              "    </tr>\n",
              "    <tr>\n",
              "      <th>6</th>\n",
              "      <td>5.391168</td>\n",
              "      <td>concavity_worst</td>\n",
              "    </tr>\n",
              "    <tr>\n",
              "      <th>7</th>\n",
              "      <td>5.533857</td>\n",
              "      <td>smoothness_mean</td>\n",
              "    </tr>\n",
              "    <tr>\n",
              "      <th>8</th>\n",
              "      <td>7.940127</td>\n",
              "      <td>symmetry_worst</td>\n",
              "    </tr>\n",
              "    <tr>\n",
              "      <th>9</th>\n",
              "      <td>8.766126</td>\n",
              "      <td>symmetry_mean</td>\n",
              "    </tr>\n",
              "    <tr>\n",
              "      <th>10</th>\n",
              "      <td>9.421661</td>\n",
              "      <td>smoothness_worst</td>\n",
              "    </tr>\n",
              "    <tr>\n",
              "      <th>11</th>\n",
              "      <td>-9.600656</td>\n",
              "      <td>compactness_se</td>\n",
              "    </tr>\n",
              "    <tr>\n",
              "      <th>12</th>\n",
              "      <td>9.646318</td>\n",
              "      <td>concave_points_mean</td>\n",
              "    </tr>\n",
              "    <tr>\n",
              "      <th>13</th>\n",
              "      <td>-11.648689</td>\n",
              "      <td>concavity_se</td>\n",
              "    </tr>\n",
              "    <tr>\n",
              "      <th>14</th>\n",
              "      <td>18.943079</td>\n",
              "      <td>concave_points_worst</td>\n",
              "    </tr>\n",
              "  </tbody>\n",
              "</table>\n",
              "</div>"
            ],
            "text/plain": [
              "            a                     b\n",
              "0   -1.875681  fractal_dimension_se\n",
              "1   -1.961448            texture_se\n",
              "2   -2.003145           symmetry_se\n",
              "3   -2.479273     compactness_worst\n",
              "4   -3.438002           radius_mean\n",
              "5    3.658995        concavity_mean\n",
              "6    5.391168       concavity_worst\n",
              "7    5.533857       smoothness_mean\n",
              "8    7.940127        symmetry_worst\n",
              "9    8.766126         symmetry_mean\n",
              "10   9.421661      smoothness_worst\n",
              "11  -9.600656        compactness_se\n",
              "12   9.646318   concave_points_mean\n",
              "13 -11.648689          concavity_se\n",
              "14  18.943079  concave_points_worst"
            ]
          },
          "metadata": {
            "tags": []
          },
          "execution_count": 17
        }
      ]
    },
    {
      "cell_type": "code",
      "metadata": {
        "id": "qRswWVwLZFM-",
        "colab_type": "code",
        "colab": {}
      },
      "source": [
        ""
      ],
      "execution_count": null,
      "outputs": []
    },
    {
      "cell_type": "code",
      "metadata": {
        "id": "-fNF_7edZFNB",
        "colab_type": "code",
        "colab": {},
        "outputId": "a228ff4d-840a-425c-ea2d-808a5e7ac09b"
      },
      "source": [
        "sns.barplot(x='a', y='b', data=feature_importances_df, palette = ['darkslategrey'])\n",
        "\n",
        "sns.plt.show()"
      ],
      "execution_count": null,
      "outputs": [
        {
          "output_type": "display_data",
          "data": {
            "image/png": "[encoded data removed]",
            "text/plain": [
              "<matplotlib.figure.Figure at 0x7f56d0cde198>"
            ]
          },
          "metadata": {
            "tags": []
          }
        }
      ]
    },
    {
      "cell_type": "markdown",
      "metadata": {
        "id": "i-yjIVOUZFNG",
        "colab_type": "raw"
      },
      "source": [
        ""
      ]
    }
  ]
}