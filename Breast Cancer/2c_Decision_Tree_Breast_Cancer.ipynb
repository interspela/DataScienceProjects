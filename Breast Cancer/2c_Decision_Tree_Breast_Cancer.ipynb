{
  "nbformat": 4,
  "nbformat_minor": 0,
  "metadata": {
    "kernelspec": {
      "display_name": "Python 3",
      "language": "python",
      "name": "python3"
    },
    "language_info": {
      "codemirror_mode": {
        "name": "ipython",
        "version": 3
      },
      "file_extension": ".py",
      "mimetype": "text/x-python",
      "name": "python",
      "nbconvert_exporter": "python",
      "pygments_lexer": "ipython3",
      "version": "3.6.5"
    },
    "colab": {
      "name": "Decision Tree Breast Cancer.ipynb",
      "provenance": []
    }
  },
  "cells": [
    {
      "cell_type": "code",
      "metadata": {
        "id": "tpTAbi-MbbXP",
        "colab_type": "code",
        "colab": {}
      },
      "source": [
        "import numpy as np\n",
        "import pandas as pd\n",
        "from sklearn.model_selection import train_test_split\n",
        "\n",
        "from sklearn import tree\n",
        "from sklearn.tree import DecisionTreeClassifier\n",
        "from sklearn.metrics import confusion_matrix, classification_report"
      ],
      "execution_count": null,
      "outputs": []
    },
    {
      "cell_type": "code",
      "metadata": {
        "id": "GpvY3dyfbbXV",
        "colab_type": "code",
        "colab": {}
      },
      "source": [
        "pd.options.display.max_seq_items = 500\n",
        "pd.set_option('max_rows', 500)\n",
        "pd.set_option('max_columns', 500)"
      ],
      "execution_count": null,
      "outputs": []
    },
    {
      "cell_type": "code",
      "metadata": {
        "id": "ggtvy3MGbbXZ",
        "colab_type": "code",
        "colab": {}
      },
      "source": [
        "breastcancer = pd.read_csv('data.csv') \n",
        "breastcancer.drop('id', axis=1, inplace=True)"
      ],
      "execution_count": null,
      "outputs": []
    },
    {
      "cell_type": "code",
      "metadata": {
        "id": "2uKcB4t7bbXd",
        "colab_type": "code",
        "colab": {}
      },
      "source": [
        "X = breastcancer.drop(['diagnosis'], axis=1)\n",
        "X = np.array(X)\n",
        "y = breastcancer['diagnosis']\n",
        "y = np.array(y)"
      ],
      "execution_count": null,
      "outputs": []
    },
    {
      "cell_type": "code",
      "metadata": {
        "id": "EFYCNcOdbbXg",
        "colab_type": "code",
        "colab": {}
      },
      "source": [
        "X_train, X_test, y_train, y_test = train_test_split(X,y, test_size=0.15, random_state=0)"
      ],
      "execution_count": null,
      "outputs": []
    },
    {
      "cell_type": "code",
      "metadata": {
        "id": "yZA_VKgebbXk",
        "colab_type": "code",
        "colab": {}
      },
      "source": [
        "X_train, X_validation, y_train, y_validation = train_test_split(X,y, test_size=(1500/8500), random_state=0)"
      ],
      "execution_count": null,
      "outputs": []
    },
    {
      "cell_type": "code",
      "metadata": {
        "id": "EsatEmkRbbXo",
        "colab_type": "code",
        "colab": {},
        "outputId": "cd63b9ab-95c7-4fcc-c30d-0ba39f0ce0dd"
      },
      "source": [
        "model = DecisionTreeClassifier()\n",
        "model.fit(X_train, y_train)"
      ],
      "execution_count": null,
      "outputs": [
        {
          "output_type": "execute_result",
          "data": {
            "text/plain": [
              "DecisionTreeClassifier(class_weight=None, criterion='gini', max_depth=None,\n",
              "            max_features=None, max_leaf_nodes=None,\n",
              "            min_impurity_split=1e-07, min_samples_leaf=1,\n",
              "            min_samples_split=2, min_weight_fraction_leaf=0.0,\n",
              "            presort=False, random_state=None, splitter='best')"
            ]
          },
          "metadata": {
            "tags": []
          },
          "execution_count": 7
        }
      ]
    },
    {
      "cell_type": "code",
      "metadata": {
        "id": "SgzOdvumbbXs",
        "colab_type": "code",
        "colab": {},
        "outputId": "085f77cf-e2d6-457a-b599-b366f06eac38"
      },
      "source": [
        "y_actual = y_validation\n",
        "y_pred = model.predict(X_validation)\n",
        "print(confusion_matrix(y_actual, y_pred))"
      ],
      "execution_count": null,
      "outputs": [
        {
          "output_type": "stream",
          "text": [
            "[[53  7]\n",
            " [ 2 39]]\n"
          ],
          "name": "stdout"
        }
      ]
    },
    {
      "cell_type": "code",
      "metadata": {
        "id": "gXAHa4wkbbXw",
        "colab_type": "code",
        "colab": {},
        "outputId": "b37b5950-a8a5-4447-8fe1-e1d70dc29958"
      },
      "source": [
        "print(classification_report(y_actual, y_pred))"
      ],
      "execution_count": null,
      "outputs": [
        {
          "output_type": "stream",
          "text": [
            "             precision    recall  f1-score   support\n",
            "\n",
            "          B       0.96      0.88      0.92        60\n",
            "          M       0.85      0.95      0.90        41\n",
            "\n",
            "avg / total       0.92      0.91      0.91       101\n",
            "\n"
          ],
          "name": "stdout"
        }
      ]
    },
    {
      "cell_type": "code",
      "metadata": {
        "id": "JuubuDs7bbX9",
        "colab_type": "code",
        "colab": {},
        "outputId": "7b0ce5f1-c722-48f6-999d-8ba94e4abe8c"
      },
      "source": [
        "y_actual = y_test\n",
        "y_pred = model.predict(X_test)\n",
        "print(confusion_matrix(y_actual, y_pred))"
      ],
      "execution_count": null,
      "outputs": [
        {
          "output_type": "stream",
          "text": [
            "[[43  7]\n",
            " [ 2 34]]\n"
          ],
          "name": "stdout"
        }
      ]
    },
    {
      "cell_type": "code",
      "metadata": {
        "id": "Nro3OoVobbYB",
        "colab_type": "code",
        "colab": {},
        "outputId": "420db6fb-122f-47bd-af7b-553a80d8792d"
      },
      "source": [
        "print(classification_report(y_actual, y_pred))"
      ],
      "execution_count": null,
      "outputs": [
        {
          "output_type": "stream",
          "text": [
            "             precision    recall  f1-score   support\n",
            "\n",
            "          B       0.96      0.86      0.91        50\n",
            "          M       0.83      0.94      0.88        36\n",
            "\n",
            "avg / total       0.90      0.90      0.90        86\n",
            "\n"
          ],
          "name": "stdout"
        }
      ]
    },
    {
      "cell_type": "code",
      "metadata": {
        "id": "o6wP-DDzbbYG",
        "colab_type": "code",
        "colab": {}
      },
      "source": [
        ""
      ],
      "execution_count": null,
      "outputs": []
    }
  ]
}