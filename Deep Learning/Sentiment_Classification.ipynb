{
  "nbformat": 4,
  "nbformat_minor": 0,
  "metadata": {
    "colab": {
      "name": "Spela_Zavodnik_Assignment 2.ipynb",
      "provenance": []
    },
    "kernelspec": {
      "name": "python3",
      "display_name": "Python 3"
    },
    "accelerator": "GPU"
  },
  "cells": [
    {
      "cell_type": "markdown",
      "metadata": {
        "id": "R5RudM9wBzd9",
        "colab_type": "text"
      },
      "source": [
        "# Assignment 2\n",
        "\n",
        "(Part of this exercise is based on https://blog.conceptnet.io/posts/2017/how-to-make-a-racist-ai-without-really-trying/)\n",
        "\n",
        "## Sentiment Classification\n",
        "\n",
        "This assignment approaches the sentiment classification problem by using deep learning techniques and also exposes some ethical problem related to these methods.\n",
        "\n",
        "This is what we’re going to do:\n",
        "\n",
        "+ Acquire some pre-computed word embeddings to represent the meanings of words\n",
        "+ Acquire training and test data, with gold-standard examples of positive and negative words\n",
        "+ Train a simple classifier to recognize other positive and negative words based on their word embeddings\n",
        "+ Compute sentiment scores for sentences of text using this classifier\n",
        "+ Analyze the results to look for unwanted bias. "
      ]
    },
    {
      "cell_type": "markdown",
      "metadata": {
        "id": "RsS5s_tEBzd_",
        "colab_type": "text"
      },
      "source": [
        "## Word embeddings\n",
        "\n",
        "There are several datasets of pre-trained English word embeddings such as `word2vec`, pretrained on Google News data, and `GloVe`, pretrained on the Common Crawl of web pages. We will use `GloVe`.\n",
        "\n",
        "GloVe comes in three sizes: 6B, 42B, and 840B. The 42B version is pretty good and is also neatly trimmed to a vocabulary of 1 million words. We will just use the 42B version.\n",
        "\n",
        "> **GloVe.42B** data: 42B tokens, 1.9M vocab, uncased, 300d vectors, 1.75 GB download"
      ]
    },
    {
      "cell_type": "code",
      "metadata": {
        "id": "BXRJque9Pd80",
        "colab_type": "code",
        "colab": {
          "base_uri": "https://localhost:8080/",
          "height": 33
        },
        "outputId": "a6bb1b97-4fc4-40c0-dbda-1523e02651cd"
      },
      "source": [
        "!pip install numpy==1.16.2"
      ],
      "execution_count": null,
      "outputs": [
        {
          "output_type": "stream",
          "text": [
            "Requirement already satisfied: numpy==1.16.2 in /usr/local/lib/python3.6/dist-packages (1.16.2)\n"
          ],
          "name": "stdout"
        }
      ]
    },
    {
      "cell_type": "code",
      "metadata": {
        "ExecuteTime": {
          "end_time": "2019-03-29T09:08:49.211876Z",
          "start_time": "2019-03-29T09:01:34.100348Z"
        },
        "id": "cEqMSox2BzeA",
        "colab_type": "code",
        "colab": {
          "base_uri": "https://localhost:8080/",
          "height": 261
        },
        "outputId": "c141b243-68a0-4d32-f7ab-87e7c76f6c5d"
      },
      "source": [
        "!wget http://nlp.stanford.edu/data/glove.42B.300d.zip"
      ],
      "execution_count": null,
      "outputs": [
        {
          "output_type": "stream",
          "text": [
            "--2019-04-30 10:14:03--  http://nlp.stanford.edu/data/glove.42B.300d.zip\n",
            "Resolving nlp.stanford.edu (nlp.stanford.edu)... 171.64.67.140\n",
            "Connecting to nlp.stanford.edu (nlp.stanford.edu)|171.64.67.140|:80... connected.\n",
            "HTTP request sent, awaiting response... 302 Found\n",
            "Location: https://nlp.stanford.edu/data/glove.42B.300d.zip [following]\n",
            "--2019-04-30 10:14:03--  https://nlp.stanford.edu/data/glove.42B.300d.zip\n",
            "Connecting to nlp.stanford.edu (nlp.stanford.edu)|171.64.67.140|:443... connected.\n",
            "HTTP request sent, awaiting response... 200 OK\n",
            "Length: 1877800501 (1.7G) [application/zip]\n",
            "Saving to: ‘glove.42B.300d.zip’\n",
            "\n",
            "glove.42B.300d.zip  100%[===================>]   1.75G  12.2MB/s    in 2m 50s  \n",
            "\n",
            "2019-04-30 10:16:53 (10.5 MB/s) - ‘glove.42B.300d.zip’ saved [1877800501/1877800501]\n",
            "\n"
          ],
          "name": "stdout"
        }
      ]
    },
    {
      "cell_type": "code",
      "metadata": {
        "ExecuteTime": {
          "end_time": "2019-03-29T09:10:02.327170Z",
          "start_time": "2019-03-29T09:09:24.646719Z"
        },
        "id": "aLvMgbhYBzeE",
        "colab_type": "code",
        "colab": {
          "base_uri": "https://localhost:8080/",
          "height": 82
        },
        "outputId": "c9aa57c4-4f82-4fb9-875f-aa4c7c7b3ed4"
      },
      "source": [
        "!unzip glove.42B.300d.zip\n",
        "!rm glove.42B.300d.zip"
      ],
      "execution_count": null,
      "outputs": [
        {
          "output_type": "stream",
          "text": [
            "Archive:  glove.42B.300d.zip\n",
            "replace glove.42B.300d.txt? [y]es, [n]o, [A]ll, [N]one, [r]ename: y\n",
            "  inflating: glove.42B.300d.txt      y\n",
            "\n"
          ],
          "name": "stdout"
        }
      ]
    },
    {
      "cell_type": "code",
      "metadata": {
        "ExecuteTime": {
          "end_time": "2019-03-29T15:04:47.628009Z",
          "start_time": "2019-03-29T15:01:58.108263Z"
        },
        "id": "G_FFD2bbBzeH",
        "colab_type": "code",
        "colab": {
          "base_uri": "https://localhost:8080/",
          "height": 50
        },
        "outputId": "9b01277c-feb4-4f89-dd97-f6f2b63a5476"
      },
      "source": [
        "import numpy as np\n",
        "import pandas as pd\n",
        "from tqdm import tqdm\n",
        "\n",
        "def load_embeddings(filename):\n",
        "    labels = []\n",
        "    rows = []\n",
        "    with open(filename, encoding='utf-8') as infile:\n",
        "        for i, line in tqdm(enumerate(infile)):\n",
        "            items = line.rstrip().split(' ')\n",
        "            if len(items) == 2:\n",
        "                # This is a header row giving the shape of the matrix\n",
        "                continue\n",
        "            labels.append(items[0])\n",
        "            values = np.array([float(x) for x in items[1:]], 'f')\n",
        "            rows.append(values)\n",
        "    \n",
        "    arr = np.vstack(rows)\n",
        "    return pd.DataFrame(arr, index=labels, dtype='f')\n",
        "\n",
        "embeddings = load_embeddings('glove.42B.300d.txt')\n",
        "embeddings.shape"
      ],
      "execution_count": null,
      "outputs": [
        {
          "output_type": "stream",
          "text": [
            "1917494it [03:44, 8546.21it/s]\n"
          ],
          "name": "stderr"
        },
        {
          "output_type": "execute_result",
          "data": {
            "text/plain": [
              "(1917494, 300)"
            ]
          },
          "metadata": {
            "tags": []
          },
          "execution_count": 4
        }
      ]
    },
    {
      "cell_type": "markdown",
      "metadata": {
        "id": "fR6RR0h9BzeJ",
        "colab_type": "text"
      },
      "source": [
        "## Positive and Negative Words\n",
        "\n",
        "We need some input about which words are positive and which words are negative. There are many sentiment lexicons you could use, but we’re going to go with a very straightforward lexicon from https://www.cs.uic.edu/~liub/FBS/sentiment-analysis.html  \n",
        "\n",
        "There is a copy of these files in the GitHub repository of the course."
      ]
    },
    {
      "cell_type": "code",
      "metadata": {
        "id": "nOVI_gAAE9OB",
        "colab_type": "code",
        "colab": {
          "base_uri": "https://localhost:8080/",
          "height": 375
        },
        "outputId": "c972d84c-673d-44e3-9f52-e4dda3a5a0fe"
      },
      "source": [
        "!wget https://raw.githubusercontent.com/DataScienceUB/DeepLearningMaster2019/master/data/positive-words.txt\n",
        "!wget https://raw.githubusercontent.com/DataScienceUB/DeepLearningMaster2019/master/data/negative-words.txt\n"
      ],
      "execution_count": null,
      "outputs": [
        {
          "output_type": "stream",
          "text": [
            "--2019-04-30 10:23:51--  https://raw.githubusercontent.com/DataScienceUB/DeepLearningMaster2019/master/data/positive-words.txt\n",
            "Resolving raw.githubusercontent.com (raw.githubusercontent.com)... 151.101.0.133, 151.101.64.133, 151.101.128.133, ...\n",
            "Connecting to raw.githubusercontent.com (raw.githubusercontent.com)|151.101.0.133|:443... connected.\n",
            "HTTP request sent, awaiting response... 200 OK\n",
            "Length: 22408 (22K) [text/plain]\n",
            "Saving to: ‘positive-words.txt.1’\n",
            "\n",
            "\rpositive-words.txt.   0%[                    ]       0  --.-KB/s               \rpositive-words.txt. 100%[===================>]  21.88K  --.-KB/s    in 0.008s  \n",
            "\n",
            "2019-04-30 10:23:51 (2.61 MB/s) - ‘positive-words.txt.1’ saved [22408/22408]\n",
            "\n",
            "--2019-04-30 10:23:53--  https://raw.githubusercontent.com/DataScienceUB/DeepLearningMaster2019/master/data/negative-words.txt\n",
            "Resolving raw.githubusercontent.com (raw.githubusercontent.com)... 151.101.0.133, 151.101.64.133, 151.101.128.133, ...\n",
            "Connecting to raw.githubusercontent.com (raw.githubusercontent.com)|151.101.0.133|:443... connected.\n",
            "HTTP request sent, awaiting response... 200 OK\n",
            "Length: 50857 (50K) [text/plain]\n",
            "Saving to: ‘negative-words.txt.1’\n",
            "\n",
            "negative-words.txt. 100%[===================>]  49.67K  --.-KB/s    in 0.02s   \n",
            "\n",
            "2019-04-30 10:23:53 (2.00 MB/s) - ‘negative-words.txt.1’ saved [50857/50857]\n",
            "\n"
          ],
          "name": "stdout"
        }
      ]
    },
    {
      "cell_type": "code",
      "metadata": {
        "ExecuteTime": {
          "end_time": "2019-03-29T15:04:56.665741Z",
          "start_time": "2019-03-29T15:04:56.619197Z"
        },
        "id": "u6kfpHJaBzeJ",
        "colab_type": "code",
        "colab": {}
      },
      "source": [
        "def load_lexicon(filename):\n",
        "    lexicon = []\n",
        "    with open(filename, encoding='latin-1') as infile:\n",
        "        for line in infile:\n",
        "            line = line.rstrip()\n",
        "            if line and not line.startswith(';'):\n",
        "                lexicon.append(line)\n",
        "    return lexicon\n",
        "\n",
        "pos_words = load_lexicon('positive-words.txt')\n",
        "neg_words = load_lexicon('negative-words.txt')"
      ],
      "execution_count": null,
      "outputs": []
    },
    {
      "cell_type": "markdown",
      "metadata": {
        "id": "ud0fhRxyBzeM",
        "colab_type": "text"
      },
      "source": [
        "Some of these words are not in the GloVe vocabulary. Those words end up with rows full of NaN to indicate their missing embeddings, so we will use Pandas to clean the dataset."
      ]
    },
    {
      "cell_type": "code",
      "metadata": {
        "ExecuteTime": {
          "end_time": "2019-03-29T15:04:59.940580Z",
          "start_time": "2019-03-29T15:04:58.168200Z"
        },
        "id": "mW5w55RiBzeM",
        "colab_type": "code",
        "colab": {
          "base_uri": "https://localhost:8080/",
          "height": 245
        },
        "outputId": "bd6f851e-3996-495d-f53b-8044853de091"
      },
      "source": [
        "pos_vectors = embeddings.loc[pos_words].dropna()\n",
        "neg_vectors = embeddings.loc[neg_words].dropna()"
      ],
      "execution_count": null,
      "outputs": [
        {
          "output_type": "stream",
          "text": [
            "/usr/local/lib/python3.6/dist-packages/ipykernel_launcher.py:1: FutureWarning: \n",
            "Passing list-likes to .loc or [] with any missing label will raise\n",
            "KeyError in the future, you can use .reindex() as an alternative.\n",
            "\n",
            "See the documentation here:\n",
            "https://pandas.pydata.org/pandas-docs/stable/indexing.html#deprecate-loc-reindex-listlike\n",
            "  \"\"\"Entry point for launching an IPython kernel.\n",
            "/usr/local/lib/python3.6/dist-packages/ipykernel_launcher.py:2: FutureWarning: \n",
            "Passing list-likes to .loc or [] with any missing label will raise\n",
            "KeyError in the future, you can use .reindex() as an alternative.\n",
            "\n",
            "See the documentation here:\n",
            "https://pandas.pydata.org/pandas-docs/stable/indexing.html#deprecate-loc-reindex-listlike\n",
            "  \n"
          ],
          "name": "stderr"
        }
      ]
    },
    {
      "cell_type": "markdown",
      "metadata": {
        "id": "aDd0yYBBBzeO",
        "colab_type": "text"
      },
      "source": [
        "Now we make arrays of the desired inputs and outputs. The inputs are the embeddings, and the outputs are `1` for positive words and `-1` for negative words. We also make sure to keep track of the words they’re labeled with, so we can interpret the results."
      ]
    },
    {
      "cell_type": "code",
      "metadata": {
        "ExecuteTime": {
          "end_time": "2019-03-29T15:05:03.485323Z",
          "start_time": "2019-03-29T15:05:03.466320Z"
        },
        "id": "TPjdI-oKBzeP",
        "colab_type": "code",
        "colab": {}
      },
      "source": [
        "vectors = pd.concat([pos_vectors, neg_vectors])\n",
        "targets = np.array([1 for entry in pos_vectors.index] + [-1 for entry in neg_vectors.index])\n",
        "labels = list(pos_vectors.index) + list(neg_vectors.index)"
      ],
      "execution_count": null,
      "outputs": []
    },
    {
      "cell_type": "code",
      "metadata": {
        "ExecuteTime": {
          "end_time": "2019-03-29T15:05:05.256478Z",
          "start_time": "2019-03-29T15:05:05.210348Z"
        },
        "id": "nBW36XlcBzeR",
        "colab_type": "code",
        "colab": {}
      },
      "source": [
        "from sklearn.model_selection import train_test_split\n",
        "\n",
        "train_vectors, test_vectors, train_targets, test_targets, train_labels, test_labels = \\\n",
        "    train_test_split(vectors, targets, labels, test_size=0.1, random_state=0)"
      ],
      "execution_count": null,
      "outputs": []
    },
    {
      "cell_type": "markdown",
      "metadata": {
        "id": "qmOaXxGpBzeU",
        "colab_type": "text"
      },
      "source": [
        "Now it is time to make your classifier, and train it by running the training vectors through it for 100 iterations. You can use a logistic function as the loss, so that the resulting classifier can output the probability that a word is positive or negative."
      ]
    },
    {
      "cell_type": "code",
      "metadata": {
        "ExecuteTime": {
          "end_time": "2019-03-29T15:16:50.546163Z",
          "start_time": "2019-03-29T15:16:50.542669Z"
        },
        "id": "LreSnh1RBzeU",
        "colab_type": "code",
        "colab": {
          "base_uri": "https://localhost:8080/",
          "height": 167
        },
        "outputId": "61d58295-1a53-43be-924a-5bf197f73300"
      },
      "source": [
        "from sklearn.linear_model import SGDClassifier\n",
        "from sklearn.metrics import accuracy_score\n",
        "\n",
        "model = SGDClassifier(loss='log', random_state=0, n_iter=100)\n",
        "model.fit(train_vectors, train_targets)\n",
        "SGDClassifier(alpha=0.0001, average=False, class_weight=None, epsilon=0.1,\n",
        "       eta0=0.0, fit_intercept=True, l1_ratio=0.15,\n",
        "       learning_rate='optimal', loss='log', n_iter=100, n_jobs=1,\n",
        "       penalty='l2', power_t=0.5, random_state=0, shuffle=True, verbose=0,\n",
        "       warm_start=False)\n"
      ],
      "execution_count": null,
      "outputs": [
        {
          "output_type": "stream",
          "text": [
            "/usr/local/lib/python3.6/dist-packages/sklearn/linear_model/stochastic_gradient.py:152: DeprecationWarning: n_iter parameter is deprecated in 0.19 and will be removed in 0.21. Use max_iter and tol instead.\n",
            "  DeprecationWarning)\n"
          ],
          "name": "stderr"
        },
        {
          "output_type": "execute_result",
          "data": {
            "text/plain": [
              "SGDClassifier(alpha=0.0001, average=False, class_weight=None,\n",
              "       early_stopping=False, epsilon=0.1, eta0=0.0, fit_intercept=True,\n",
              "       l1_ratio=0.15, learning_rate='optimal', loss='log', max_iter=None,\n",
              "       n_iter=100, n_iter_no_change=5, n_jobs=1, penalty='l2', power_t=0.5,\n",
              "       random_state=0, shuffle=True, tol=None, validation_fraction=0.1,\n",
              "       verbose=0, warm_start=False)"
            ]
          },
          "metadata": {
            "tags": []
          },
          "execution_count": 10
        }
      ]
    },
    {
      "cell_type": "markdown",
      "metadata": {
        "id": "4UlxWk8NBzeX",
        "colab_type": "text"
      },
      "source": [
        "We can evaluate the classifier on the test vectors. \n"
      ]
    },
    {
      "cell_type": "code",
      "metadata": {
        "ExecuteTime": {
          "end_time": "2019-03-29T15:16:54.627721Z",
          "start_time": "2019-03-29T15:16:54.625191Z"
        },
        "id": "gh0kOsUdBzeX",
        "colab_type": "code",
        "colab": {
          "base_uri": "https://localhost:8080/",
          "height": 33
        },
        "outputId": "ee0481e0-8595-44f5-d167-78d632d00e77"
      },
      "source": [
        "accuracy_score(model.predict(test_vectors), test_targets)"
      ],
      "execution_count": null,
      "outputs": [
        {
          "output_type": "execute_result",
          "data": {
            "text/plain": [
              "0.9502262443438914"
            ]
          },
          "metadata": {
            "tags": []
          },
          "execution_count": 11
        }
      ]
    },
    {
      "cell_type": "markdown",
      "metadata": {
        "id": "983emjCeBzeZ",
        "colab_type": "text"
      },
      "source": [
        "Let’s define a function that we can use to see the sentiment that this classifier predicts for particular words, then use it to see some examples of its predictions on the test data."
      ]
    },
    {
      "cell_type": "code",
      "metadata": {
        "ExecuteTime": {
          "end_time": "2019-03-29T15:06:07.705034Z",
          "start_time": "2019-03-29T15:06:07.670604Z"
        },
        "id": "QAtTmjPkBzea",
        "colab_type": "code",
        "colab": {
          "base_uri": "https://localhost:8080/",
          "height": 736
        },
        "outputId": "47d024c5-1827-477f-a5a8-471499ffc0c6"
      },
      "source": [
        "def vecs_to_sentiment(vecs):\n",
        "    # predict_log_proba gives the log probability for each class\n",
        "    predictions = model.predict_log_proba(vecs)\n",
        "\n",
        "    # To see an overall positive vs. negative classification in one number,\n",
        "    # we take the log probability of positive sentiment minus the log\n",
        "    # probability of negative sentiment.\n",
        "    return predictions[:, 1] - predictions[:, 0]\n",
        "\n",
        "\n",
        "def words_to_sentiment(words):\n",
        "    vecs = embeddings.loc[words].dropna()\n",
        "    log_odds = vecs_to_sentiment(vecs)\n",
        "    return pd.DataFrame({'sentiment': log_odds}, index=vecs.index)\n",
        "\n",
        "\n",
        "# Show 20 examples from the test set\n",
        "words_to_sentiment(test_labels).ix[:20]"
      ],
      "execution_count": null,
      "outputs": [
        {
          "output_type": "stream",
          "text": [
            "/usr/local/lib/python3.6/dist-packages/ipykernel_launcher.py:18: DeprecationWarning: \n",
            ".ix is deprecated. Please use\n",
            ".loc for label based indexing or\n",
            ".iloc for positional indexing\n",
            "\n",
            "See the documentation here:\n",
            "http://pandas.pydata.org/pandas-docs/stable/indexing.html#ix-indexer-is-deprecated\n"
          ],
          "name": "stderr"
        },
        {
          "output_type": "execute_result",
          "data": {
            "text/html": [
              "<div>\n",
              "<style scoped>\n",
              "    .dataframe tbody tr th:only-of-type {\n",
              "        vertical-align: middle;\n",
              "    }\n",
              "\n",
              "    .dataframe tbody tr th {\n",
              "        vertical-align: top;\n",
              "    }\n",
              "\n",
              "    .dataframe thead th {\n",
              "        text-align: right;\n",
              "    }\n",
              "</style>\n",
              "<table border=\"1\" class=\"dataframe\">\n",
              "  <thead>\n",
              "    <tr style=\"text-align: right;\">\n",
              "      <th></th>\n",
              "      <th>sentiment</th>\n",
              "    </tr>\n",
              "  </thead>\n",
              "  <tbody>\n",
              "    <tr>\n",
              "      <th>fidget</th>\n",
              "      <td>-9.931679</td>\n",
              "    </tr>\n",
              "    <tr>\n",
              "      <th>interrupt</th>\n",
              "      <td>-9.634706</td>\n",
              "    </tr>\n",
              "    <tr>\n",
              "      <th>staunchly</th>\n",
              "      <td>1.466919</td>\n",
              "    </tr>\n",
              "    <tr>\n",
              "      <th>imaginary</th>\n",
              "      <td>-2.989215</td>\n",
              "    </tr>\n",
              "    <tr>\n",
              "      <th>taxing</th>\n",
              "      <td>0.468522</td>\n",
              "    </tr>\n",
              "    <tr>\n",
              "      <th>world-famous</th>\n",
              "      <td>6.908561</td>\n",
              "    </tr>\n",
              "    <tr>\n",
              "      <th>low-cost</th>\n",
              "      <td>9.237223</td>\n",
              "    </tr>\n",
              "    <tr>\n",
              "      <th>disapointment</th>\n",
              "      <td>-8.737182</td>\n",
              "    </tr>\n",
              "    <tr>\n",
              "      <th>totalitarian</th>\n",
              "      <td>-10.851580</td>\n",
              "    </tr>\n",
              "    <tr>\n",
              "      <th>bellicose</th>\n",
              "      <td>-8.328674</td>\n",
              "    </tr>\n",
              "    <tr>\n",
              "      <th>freezes</th>\n",
              "      <td>-8.456981</td>\n",
              "    </tr>\n",
              "    <tr>\n",
              "      <th>sin</th>\n",
              "      <td>-7.839670</td>\n",
              "    </tr>\n",
              "    <tr>\n",
              "      <th>fragile</th>\n",
              "      <td>-4.018289</td>\n",
              "    </tr>\n",
              "    <tr>\n",
              "      <th>fooled</th>\n",
              "      <td>-4.309344</td>\n",
              "    </tr>\n",
              "    <tr>\n",
              "      <th>undecided</th>\n",
              "      <td>-2.816172</td>\n",
              "    </tr>\n",
              "    <tr>\n",
              "      <th>handily</th>\n",
              "      <td>2.339609</td>\n",
              "    </tr>\n",
              "    <tr>\n",
              "      <th>demonizes</th>\n",
              "      <td>-2.102152</td>\n",
              "    </tr>\n",
              "    <tr>\n",
              "      <th>easygoing</th>\n",
              "      <td>8.747150</td>\n",
              "    </tr>\n",
              "    <tr>\n",
              "      <th>unpopular</th>\n",
              "      <td>-7.887475</td>\n",
              "    </tr>\n",
              "    <tr>\n",
              "      <th>commiserate</th>\n",
              "      <td>1.790899</td>\n",
              "    </tr>\n",
              "  </tbody>\n",
              "</table>\n",
              "</div>"
            ],
            "text/plain": [
              "               sentiment\n",
              "fidget         -9.931679\n",
              "interrupt      -9.634706\n",
              "staunchly       1.466919\n",
              "imaginary      -2.989215\n",
              "taxing          0.468522\n",
              "world-famous    6.908561\n",
              "low-cost        9.237223\n",
              "disapointment  -8.737182\n",
              "totalitarian  -10.851580\n",
              "bellicose      -8.328674\n",
              "freezes        -8.456981\n",
              "sin            -7.839670\n",
              "fragile        -4.018289\n",
              "fooled         -4.309344\n",
              "undecided      -2.816172\n",
              "handily         2.339609\n",
              "demonizes      -2.102152\n",
              "easygoing       8.747150\n",
              "unpopular      -7.887475\n",
              "commiserate     1.790899"
            ]
          },
          "metadata": {
            "tags": []
          },
          "execution_count": 12
        }
      ]
    },
    {
      "cell_type": "markdown",
      "metadata": {
        "id": "D7CPVesRBzed",
        "colab_type": "text"
      },
      "source": [
        "## Sentiment score for text\n",
        "\n",
        "There are many ways to combine sentiments for word vectors into an overall sentiment score. The simplest way is to average them."
      ]
    },
    {
      "cell_type": "code",
      "metadata": {
        "ExecuteTime": {
          "end_time": "2019-03-29T15:07:29.746290Z",
          "start_time": "2019-03-29T15:07:29.740768Z"
        },
        "id": "-XJpCFwjBzee",
        "colab_type": "code",
        "colab": {}
      },
      "source": [
        "import re\n",
        "TOKEN_RE = re.compile(r\"\\w.*?\\b\")\n",
        "# The regex above finds tokens that start with a word-like character (\\w), and continues\n",
        "# matching characters (.+?) until the next word break (\\b). It's a relatively simple\n",
        "# expression that manages to extract something very much like words from text.\n",
        "\n",
        "\n",
        "def text_to_sentiment(text):\n",
        "    tokens = [token.casefold() for token in TOKEN_RE.findall(text)]\n",
        "    sentiments = words_to_sentiment(tokens)\n",
        "    return sentiments['sentiment'].mean()"
      ],
      "execution_count": null,
      "outputs": []
    },
    {
      "cell_type": "code",
      "metadata": {
        "ExecuteTime": {
          "end_time": "2019-03-29T15:07:40.366537Z",
          "start_time": "2019-03-29T15:07:40.351478Z"
        },
        "id": "f_qHy19xBzeg",
        "colab_type": "code",
        "colab": {
          "base_uri": "https://localhost:8080/",
          "height": 33
        },
        "outputId": "6fb172e8-8e8d-452d-f392-57101961166e"
      },
      "source": [
        "text_to_sentiment(\"this example is pretty cool\")"
      ],
      "execution_count": null,
      "outputs": [
        {
          "output_type": "execute_result",
          "data": {
            "text/plain": [
              "3.889968926086298"
            ]
          },
          "metadata": {
            "tags": []
          },
          "execution_count": 14
        }
      ]
    },
    {
      "cell_type": "code",
      "metadata": {
        "ExecuteTime": {
          "end_time": "2019-03-29T15:07:48.548136Z",
          "start_time": "2019-03-29T15:07:48.540902Z"
        },
        "id": "1eJusL1qBzek",
        "colab_type": "code",
        "colab": {
          "base_uri": "https://localhost:8080/",
          "height": 33
        },
        "outputId": "6cda0b49-53fe-4d91-ad50-717ff0b26bb5"
      },
      "source": [
        "text_to_sentiment(\"meh, this example sucks\")"
      ],
      "execution_count": null,
      "outputs": [
        {
          "output_type": "execute_result",
          "data": {
            "text/plain": [
              "-1.1774475917460698"
            ]
          },
          "metadata": {
            "tags": []
          },
          "execution_count": 15
        }
      ]
    },
    {
      "cell_type": "markdown",
      "metadata": {
        "id": "vVSJqoSBBzep",
        "colab_type": "text"
      },
      "source": [
        "Let’s see what it does with a few variations on a neutral sentence:"
      ]
    },
    {
      "cell_type": "code",
      "metadata": {
        "ExecuteTime": {
          "end_time": "2019-03-29T15:08:39.114595Z",
          "start_time": "2019-03-29T15:08:39.099228Z"
        },
        "id": "E-oqx5yFBzeq",
        "colab_type": "code",
        "colab": {
          "base_uri": "https://localhost:8080/",
          "height": 66
        },
        "outputId": "34f8a474-4ac2-4111-b432-ef089fc749b1"
      },
      "source": [
        "print(text_to_sentiment(\"Let's go get Italian food\"))\n",
        "print(text_to_sentiment(\"Let's go get Chinese food\"))\n",
        "print(text_to_sentiment(\"Let's go get Indian food\"))"
      ],
      "execution_count": null,
      "outputs": [
        {
          "output_type": "stream",
          "text": [
            "2.0429166109408983\n",
            "1.4094033658140972\n",
            "1.5702502107020269\n"
          ],
          "name": "stdout"
        }
      ]
    },
    {
      "cell_type": "code",
      "metadata": {
        "ExecuteTime": {
          "end_time": "2019-03-29T15:09:13.624994Z",
          "start_time": "2019-03-29T15:09:13.604583Z"
        },
        "id": "ojy7OzeyBzet",
        "colab_type": "code",
        "colab": {
          "base_uri": "https://localhost:8080/",
          "height": 82
        },
        "outputId": "5f151301-023f-455e-d002-1941b8710d48"
      },
      "source": [
        "print(text_to_sentiment(\"My name is Emily\"))\n",
        "print(text_to_sentiment(\"My name is Heather\"))\n",
        "print(text_to_sentiment(\"My name is Yvette\"))\n",
        "print(text_to_sentiment(\"My name is Shaniqua\"))\n"
      ],
      "execution_count": null,
      "outputs": [
        {
          "output_type": "stream",
          "text": [
            "2.228617936474531\n",
            "1.3976291151079159\n",
            "0.9846380213298556\n",
            "-0.47048131775890656\n"
          ],
          "name": "stdout"
        }
      ]
    },
    {
      "cell_type": "markdown",
      "metadata": {
        "id": "lMh897d-Bzew",
        "colab_type": "text"
      },
      "source": [
        "The system has associated wildly different sentiments with people’s names. You can look at these examples and many others and see that the sentiment is generally more positive for stereotypically-white names, and more negative for stereotypically-black names."
      ]
    },
    {
      "cell_type": "markdown",
      "metadata": {
        "id": "SJLdr7ROBzew",
        "colab_type": "text"
      },
      "source": [
        "## Ethical problem\n",
        "\n",
        "We want to learn how to not make something like this again. So let’s put more data through it, and statistically measure how bad its bias is.\n",
        "\n",
        "Here we have four lists of names that tend to reflect different ethnic backgrounds, mostly from a United States perspective. The first two are lists of predominantly “white” and “black” names adapted from Caliskan et al.’s article. I also added typically Hispanic names, as well as Muslim names that come from Arabic or Urdu; these are two more distinct groupings of given names that tend to represent your background."
      ]
    },
    {
      "cell_type": "code",
      "metadata": {
        "ExecuteTime": {
          "end_time": "2019-03-29T15:10:18.816997Z",
          "start_time": "2019-03-29T15:10:18.787085Z"
        },
        "id": "eSAQ22POBzex",
        "colab_type": "code",
        "colab": {}
      },
      "source": [
        "NAMES_BY_ETHNICITY = {\n",
        "    # The first two lists are from the Caliskan et al. appendix describing the\n",
        "    # Word Embedding Association Test.\n",
        "    'White': [\n",
        "        'Adam', 'Chip', 'Harry', 'Josh', 'Roger', 'Alan', 'Frank', 'Ian', 'Justin',\n",
        "        'Ryan', 'Andrew', 'Fred', 'Jack', 'Matthew', 'Stephen', 'Brad', 'Greg', 'Jed',\n",
        "        'Paul', 'Todd', 'Brandon', 'Hank', 'Jonathan', 'Peter', 'Wilbur', 'Amanda',\n",
        "        'Courtney', 'Heather', 'Melanie', 'Sara', 'Amber', 'Crystal', 'Katie',\n",
        "        'Meredith', 'Shannon', 'Betsy', 'Donna', 'Kristin', 'Nancy', 'Stephanie',\n",
        "        'Bobbie-Sue', 'Ellen', 'Lauren', 'Peggy', 'Sue-Ellen', 'Colleen', 'Emily',\n",
        "        'Megan', 'Rachel', 'Wendy'\n",
        "    ],\n",
        "\n",
        "    'Black': [\n",
        "        'Alonzo', 'Jamel', 'Lerone', 'Percell', 'Theo', 'Alphonse', 'Jerome',\n",
        "        'Leroy', 'Rasaan', 'Torrance', 'Darnell', 'Lamar', 'Lionel', 'Rashaun',\n",
        "        'Tyree', 'Deion', 'Lamont', 'Malik', 'Terrence', 'Tyrone', 'Everol',\n",
        "        'Lavon', 'Marcellus', 'Terryl', 'Wardell', 'Aiesha', 'Lashelle', 'Nichelle',\n",
        "        'Shereen', 'Temeka', 'Ebony', 'Latisha', 'Shaniqua', 'Tameisha', 'Teretha',\n",
        "        'Jasmine', 'Latonya', 'Shanise', 'Tanisha', 'Tia', 'Lakisha', 'Latoya',\n",
        "        'Sharise', 'Tashika', 'Yolanda', 'Lashandra', 'Malika', 'Shavonn',\n",
        "        'Tawanda', 'Yvette'\n",
        "    ],\n",
        "    \n",
        "    # This list comes from statistics about common Hispanic-origin names in the US.\n",
        "    'Hispanic': [\n",
        "        'Juan', 'José', 'Miguel', 'Luís', 'Jorge', 'Santiago', 'Matías', 'Sebastián',\n",
        "        'Mateo', 'Nicolás', 'Alejandro', 'Samuel', 'Diego', 'Daniel', 'Tomás',\n",
        "        'Juana', 'Ana', 'Luisa', 'María', 'Elena', 'Sofía', 'Isabella', 'Valentina',\n",
        "        'Camila', 'Valeria', 'Ximena', 'Luciana', 'Mariana', 'Victoria', 'Martina'\n",
        "    ],\n",
        "    \n",
        "    # The following list conflates religion and ethnicity, I'm aware. So do given names.\n",
        "    #\n",
        "    # This list was cobbled together from searching baby-name sites for common Muslim names,\n",
        "    # as spelled in English. I did not ultimately distinguish whether the origin of the name\n",
        "    # is Arabic or Urdu or another language.\n",
        "    #\n",
        "    # I'd be happy to replace it with something more authoritative, given a source.\n",
        "    'Arab/Muslim': [\n",
        "        'Mohammed', 'Omar', 'Ahmed', 'Ali', 'Youssef', 'Abdullah', 'Yasin', 'Hamza',\n",
        "        'Ayaan', 'Syed', 'Rishaan', 'Samar', 'Ahmad', 'Zikri', 'Rayyan', 'Mariam',\n",
        "        'Jana', 'Malak', 'Salma', 'Nour', 'Lian', 'Fatima', 'Ayesha', 'Zahra', 'Sana',\n",
        "        'Zara', 'Alya', 'Shaista', 'Zoya', 'Yasmin'\n",
        "    ]\n",
        "}"
      ],
      "execution_count": null,
      "outputs": []
    },
    {
      "cell_type": "markdown",
      "metadata": {
        "id": "8B5G2exKBze1",
        "colab_type": "text"
      },
      "source": [
        "Now we’ll use Pandas to make a table of these names, their predominant ethnic background, and the sentiment score we get for them:"
      ]
    },
    {
      "cell_type": "code",
      "metadata": {
        "ExecuteTime": {
          "end_time": "2019-03-29T15:10:46.744680Z",
          "start_time": "2019-03-29T15:10:46.676412Z"
        },
        "id": "mgePQtf6Bze1",
        "colab_type": "code",
        "colab": {
          "base_uri": "https://localhost:8080/",
          "height": 720
        },
        "outputId": "77b14e65-660b-48b4-94e7-f7175a5582fb"
      },
      "source": [
        "def name_sentiment_table():\n",
        "    frames = []\n",
        "    for group, name_list in sorted(NAMES_BY_ETHNICITY.items()):\n",
        "        lower_names = [name.lower() for name in name_list]\n",
        "        sentiments = words_to_sentiment(lower_names)\n",
        "        sentiments['group'] = group\n",
        "        frames.append(sentiments)\n",
        "\n",
        "    # Put together the data we got from each ethnic group into one big table\n",
        "    return pd.concat(frames)\n",
        "\n",
        "name_sentiments = name_sentiment_table()\n",
        "\n",
        "name_sentiments.ix[::25]"
      ],
      "execution_count": null,
      "outputs": [
        {
          "output_type": "stream",
          "text": [
            "/usr/local/lib/python3.6/dist-packages/ipykernel_launcher.py:12: FutureWarning: \n",
            "Passing list-likes to .loc or [] with any missing label will raise\n",
            "KeyError in the future, you can use .reindex() as an alternative.\n",
            "\n",
            "See the documentation here:\n",
            "https://pandas.pydata.org/pandas-docs/stable/indexing.html#deprecate-loc-reindex-listlike\n",
            "  if sys.path[0] == '':\n",
            "/usr/local/lib/python3.6/dist-packages/ipykernel_launcher.py:12: FutureWarning: \n",
            "Passing list-likes to .loc or [] with any missing label will raise\n",
            "KeyError in the future, you can use .reindex() as an alternative.\n",
            "\n",
            "See the documentation here:\n",
            "https://pandas.pydata.org/pandas-docs/stable/indexing.html#deprecate-loc-reindex-listlike\n",
            "  if sys.path[0] == '':\n",
            "/usr/local/lib/python3.6/dist-packages/ipykernel_launcher.py:12: FutureWarning: \n",
            "Passing list-likes to .loc or [] with any missing label will raise\n",
            "KeyError in the future, you can use .reindex() as an alternative.\n",
            "\n",
            "See the documentation here:\n",
            "https://pandas.pydata.org/pandas-docs/stable/indexing.html#deprecate-loc-reindex-listlike\n",
            "  if sys.path[0] == '':\n",
            "/usr/local/lib/python3.6/dist-packages/ipykernel_launcher.py:14: DeprecationWarning: \n",
            ".ix is deprecated. Please use\n",
            ".loc for label based indexing or\n",
            ".iloc for positional indexing\n",
            "\n",
            "See the documentation here:\n",
            "http://pandas.pydata.org/pandas-docs/stable/indexing.html#ix-indexer-is-deprecated\n",
            "  \n"
          ],
          "name": "stderr"
        },
        {
          "output_type": "execute_result",
          "data": {
            "text/html": [
              "<div>\n",
              "<style scoped>\n",
              "    .dataframe tbody tr th:only-of-type {\n",
              "        vertical-align: middle;\n",
              "    }\n",
              "\n",
              "    .dataframe tbody tr th {\n",
              "        vertical-align: top;\n",
              "    }\n",
              "\n",
              "    .dataframe thead th {\n",
              "        text-align: right;\n",
              "    }\n",
              "</style>\n",
              "<table border=\"1\" class=\"dataframe\">\n",
              "  <thead>\n",
              "    <tr style=\"text-align: right;\">\n",
              "      <th></th>\n",
              "      <th>sentiment</th>\n",
              "      <th>group</th>\n",
              "    </tr>\n",
              "  </thead>\n",
              "  <tbody>\n",
              "    <tr>\n",
              "      <th>mohammed</th>\n",
              "      <td>0.834974</td>\n",
              "      <td>Arab/Muslim</td>\n",
              "    </tr>\n",
              "    <tr>\n",
              "      <th>alya</th>\n",
              "      <td>3.916803</td>\n",
              "      <td>Arab/Muslim</td>\n",
              "    </tr>\n",
              "    <tr>\n",
              "      <th>terryl</th>\n",
              "      <td>-2.858010</td>\n",
              "      <td>Black</td>\n",
              "    </tr>\n",
              "    <tr>\n",
              "      <th>josé</th>\n",
              "      <td>0.432956</td>\n",
              "      <td>Hispanic</td>\n",
              "    </tr>\n",
              "    <tr>\n",
              "      <th>luciana</th>\n",
              "      <td>1.086073</td>\n",
              "      <td>Hispanic</td>\n",
              "    </tr>\n",
              "    <tr>\n",
              "      <th>hank</th>\n",
              "      <td>0.391858</td>\n",
              "      <td>White</td>\n",
              "    </tr>\n",
              "    <tr>\n",
              "      <th>megan</th>\n",
              "      <td>2.158679</td>\n",
              "      <td>White</td>\n",
              "    </tr>\n",
              "  </tbody>\n",
              "</table>\n",
              "</div>"
            ],
            "text/plain": [
              "          sentiment        group\n",
              "mohammed   0.834974  Arab/Muslim\n",
              "alya       3.916803  Arab/Muslim\n",
              "terryl    -2.858010        Black\n",
              "josé       0.432956     Hispanic\n",
              "luciana    1.086073     Hispanic\n",
              "hank       0.391858        White\n",
              "megan      2.158679        White"
            ]
          },
          "metadata": {
            "tags": []
          },
          "execution_count": 19
        }
      ]
    },
    {
      "cell_type": "markdown",
      "metadata": {
        "id": "SJA6-N1KXKNQ",
        "colab_type": "text"
      },
      "source": [
        ""
      ]
    },
    {
      "cell_type": "code",
      "metadata": {
        "ExecuteTime": {
          "end_time": "2019-03-29T15:10:59.406581Z",
          "start_time": "2019-03-29T15:10:59.243215Z"
        },
        "id": "UmGNsOjdBze4",
        "colab_type": "code",
        "colab": {
          "base_uri": "https://localhost:8080/",
          "height": 300
        },
        "outputId": "4e9131d2-c255-428c-c619-06aaf10bbc6e"
      },
      "source": [
        "import seaborn\n",
        "\n",
        "plot = seaborn.swarmplot(x='group', y='sentiment', data=name_sentiments)\n",
        "plot.set_ylim([-10, 10])"
      ],
      "execution_count": null,
      "outputs": [
        {
          "output_type": "execute_result",
          "data": {
            "text/plain": [
              "(-10, 10)"
            ]
          },
          "metadata": {
            "tags": []
          },
          "execution_count": 20
        },
        {
          "output_type": "display_data",
          "data": {
            "image/png": "[encoded data removed]",
            "text/plain": [
              "<Figure size 432x288 with 1 Axes>"
            ]
          },
          "metadata": {
            "tags": []
          }
        }
      ]
    },
    {
      "cell_type": "code",
      "metadata": {
        "ExecuteTime": {
          "end_time": "2019-03-29T15:11:09.382514Z",
          "start_time": "2019-03-29T15:11:09.222382Z"
        },
        "id": "C_C11E9xBze6",
        "colab_type": "code",
        "colab": {
          "base_uri": "https://localhost:8080/",
          "height": 283
        },
        "outputId": "526aaead-c022-4bd1-94c1-4a341c39291f"
      },
      "source": [
        "plot = seaborn.barplot(x='group', y='sentiment', data=name_sentiments, capsize=.1)"
      ],
      "execution_count": null,
      "outputs": [
        {
          "output_type": "display_data",
          "data": {
            "image/png": "[encoded data removed]",
            "text/plain": [
              "<Figure size 432x288 with 1 Axes>"
            ]
          },
          "metadata": {
            "tags": []
          }
        }
      ]
    },
    {
      "cell_type": "markdown",
      "metadata": {
        "id": "Kmvb2yKmVXkI",
        "colab_type": "text"
      },
      "source": [
        "# Exercise\n",
        "\n",
        "We have used only word labels to build a sentiment classifier, but if we have sentence labels we can build a model that uses both, word and sentence information.\n",
        "\n",
        "To this end, you can use the `imdb` dataset (available in Keras): https://github.com/keras-team/keras/blob/master/examples/imdb_lstm.py \n",
        "\n",
        "Yours tasks are:\n",
        "+ Use the sentiment model we have already developed (based on words), to evaluate the `imdb` dataset. What is the accuracy of this classifier?\n"
      ]
    },
    {
      "cell_type": "code",
      "metadata": {
        "id": "e9IzpWCMaADC",
        "colab_type": "code",
        "colab": {}
      },
      "source": [
        "#!pip install numpy==1.16.2"
      ],
      "execution_count": null,
      "outputs": []
    },
    {
      "cell_type": "code",
      "metadata": {
        "id": "tNBmoprbmyE5",
        "colab_type": "code",
        "colab": {}
      },
      "source": [
        "#importing the data and spliting it into train and test set, determining max features\n",
        "from keras.datasets import imdb\n",
        "import pandas as pd\n",
        "\n",
        "max_features = 20000\n",
        "(x_train, y_train), (x_test, y_test) = imdb.load_data(num_words=max_features)\n"
      ],
      "execution_count": null,
      "outputs": []
    },
    {
      "cell_type": "markdown",
      "metadata": {
        "id": "eRvKJsGTJN7e",
        "colab_type": "text"
      },
      "source": [
        "Treshold was determined by experimenting - The model or the data are probably biased towards positive words, so only if a word gets sentiment score of 1.55 or higher it's classified as positive (1)."
      ]
    },
    {
      "cell_type": "code",
      "metadata": {
        "id": "vguxyX2Zz4Uo",
        "colab_type": "code",
        "colab": {}
      },
      "source": [
        "word_index = imdb.get_word_index()\n",
        "reverse_word_index = dict(\n",
        "[(value, key) for (key, value) in word_index.items()])\n",
        "\n",
        "def sequence_to_text(sequence):\n",
        "    decoded_review = ' '.join(\n",
        "    [reverse_word_index.get(i - 3, '?') for i in sequence])\n",
        "    return decoded_review\n",
        "\n",
        "def get_sentiment(sequence):\n",
        "    score = text_to_sentiment(sequence_to_text(sequence))\n",
        "    if score >= 1.55:\n",
        "        return 1\n",
        "    else:\n",
        "        return 0 "
      ],
      "execution_count": null,
      "outputs": []
    },
    {
      "cell_type": "code",
      "metadata": {
        "id": "1JZt2uJ-Dp9o",
        "colab_type": "code",
        "colab": {
          "base_uri": "https://localhost:8080/",
          "height": 50
        },
        "outputId": "27c8942f-afc7-4724-fd2b-33c34ce5012f"
      },
      "source": [
        "#quick check\n",
        "print(text_to_sentiment('Titanic'))\n",
        "print(get_sentiment(x_train[15]))"
      ],
      "execution_count": null,
      "outputs": [
        {
          "output_type": "stream",
          "text": [
            "0.5424886970379013\n",
            "0\n"
          ],
          "name": "stdout"
        }
      ]
    },
    {
      "cell_type": "code",
      "metadata": {
        "id": "ogCsFowc03rE",
        "colab_type": "code",
        "colab": {
          "base_uri": "https://localhost:8080/",
          "height": 33
        },
        "outputId": "616a08e1-d652-44e1-c3ce-17be4e0550cb"
      },
      "source": [
        "import numpy as np\n",
        "import warnings\n",
        "warnings.simplefilter(action='ignore', category=FutureWarning)\n",
        "\n",
        "y_pred = np.array([get_sentiment(i) for i in x_train[:25000]])\n",
        "accuracy_score(y_train[:25000], y_pred)"
      ],
      "execution_count": null,
      "outputs": [
        {
          "output_type": "execute_result",
          "data": {
            "text/plain": [
              "0.75232"
            ]
          },
          "metadata": {
            "tags": []
          },
          "execution_count": 26
        }
      ]
    },
    {
      "cell_type": "markdown",
      "metadata": {
        "id": "pzD_Wrsf4Fwd",
        "colab_type": "text"
      },
      "source": [
        "\n",
        "+ Train a LSTM model to classify sentences based on the `imdb` dataset but, insteasd of learning specific embeddings for this problem, use `GloVe`.  What is the accuracy of this classifier?\n",
        "\n",
        "(Changing the embedding to glove, getting the weight matrix and getting the embedding vectors for further analysis.)\n"
      ]
    },
    {
      "cell_type": "code",
      "metadata": {
        "id": "STStDDtmZNS2",
        "colab_type": "code",
        "colab": {
          "base_uri": "https://localhost:8080/",
          "height": 50
        },
        "outputId": "ef622ddd-e768-4264-ee5f-8cca10e69be7"
      },
      "source": [
        "def load_embedding(filename):\n",
        "\t# load embedding into memory, skip first line\n",
        "\tfile = open(filename,'r')\n",
        "\tlines = file.readlines()[1:]\n",
        "\tfile.close()\n",
        "\t# create a map of words to vectors\n",
        "\tembedding = dict()\n",
        "\tfor line in lines:\n",
        "\t\tparts = line.split()\n",
        "\t\t# key is string word, value is numpy array for vector\n",
        "\t\tembedding[parts[0]] = asarray(parts[1:], dtype='float32')\n",
        "\treturn embedding\n",
        "\n",
        "embeddings = load_embeddings('glove.42B.300d.txt')\n",
        "embeddings.shape"
      ],
      "execution_count": null,
      "outputs": [
        {
          "output_type": "stream",
          "text": [
            "1917494it [03:50, 8328.58it/s]\n"
          ],
          "name": "stderr"
        },
        {
          "output_type": "execute_result",
          "data": {
            "text/plain": [
              "(1917494, 300)"
            ]
          },
          "metadata": {
            "tags": []
          },
          "execution_count": 27
        }
      ]
    },
    {
      "cell_type": "code",
      "metadata": {
        "id": "8XKkLGWkppnM",
        "colab_type": "code",
        "colab": {}
      },
      "source": [
        "def get_weight_matrix(embedding, vocab):\n",
        "    # total vocabulary size plus 0 for unknown words\n",
        "    vocab_size = len(vocab) + 1\n",
        "    # define weight matrix dimensions with all 0\n",
        "    weight_matrix = np.zeros((vocab_size, 100))\n",
        "    # step vocab, store vectors using the Tokenizer's integer mapping\n",
        "    for word, i in vocab.items():\n",
        "        vector = embedding.get(word)\n",
        "        if vector is not None:\n",
        "            weight_matrix[i] = vector\n",
        "    return weight_matrix"
      ],
      "execution_count": null,
      "outputs": []
    },
    {
      "cell_type": "code",
      "metadata": {
        "id": "FsTDWu0yCDjz",
        "colab_type": "code",
        "colab": {
          "base_uri": "https://localhost:8080/",
          "height": 4145
        },
        "outputId": "9f7589c0-1131-4764-a72a-aebc481d93f8"
      },
      "source": [
        "embedding_vectors = embeddings[:max_features]\n",
        "print(embedding_vectors.shape)\n",
        "#print(embedding_vectors)"
      ],
      "execution_count": null,
      "outputs": [
        {
          "output_type": "stream",
          "text": [
            "(20000, 300)\n",
            "                    0         1         2         3         4         5    \\\n",
            ",              0.183780 -0.121230 -0.119870  0.015227 -0.191210 -0.066074   \n",
            "the           -0.208380 -0.149320 -0.017528 -0.028432 -0.060104 -0.264600   \n",
            ".              0.108760  0.002244  0.222130 -0.121020 -0.048959  0.018135   \n",
            "and           -0.096110 -0.257880 -0.358600 -0.328870  0.579500 -0.517740   \n",
            "to            -0.248370 -0.454610  0.039227 -0.284220 -0.031852  0.263550   \n",
            "of            -0.036429 -0.285920  0.063387 -0.601220 -0.015309  0.073243   \n",
            "a             -0.035835  0.778440 -0.518060  0.080682 -0.131730 -0.286060   \n",
            "in             0.068507 -0.023344  0.282710 -0.402150  0.077815 -0.027003   \n",
            "\"             -0.048032 -0.691400 -0.219570  0.089568  0.284720 -1.053100   \n",
            "is             0.113960  0.345030 -0.055064 -0.201920  0.208480 -0.096990   \n",
            "for           -0.239090 -0.641890 -0.583220 -0.547430  0.423860 -0.117550   \n",
            ":              0.185240 -0.378870  0.266030 -0.593010  0.655070 -0.088332   \n",
            "i             -0.043504 -0.184840 -0.146130 -0.217510  0.202500  0.044053   \n",
            ")              0.266670 -0.230150 -0.013520  0.109430  0.711970 -0.090025   \n",
            "that           0.158050 -0.262330  0.174180 -0.168790  0.132490  0.001213   \n",
            "(              0.225660 -0.371120 -0.215450 -0.016410  0.330530 -0.152350   \n",
            "you           -0.045315 -0.010389 -0.197980  0.007407  0.139150  0.283150   \n",
            "it             0.394570 -0.013387 -0.232890 -0.160100  0.327880 -0.071888   \n",
            "on             0.000607  0.048631  0.489690  0.427770 -0.386100 -0.008423   \n",
            "-             -0.278810 -0.402710 -0.185910 -0.272020  0.284090  0.253640   \n",
            "with          -0.505900 -0.548400  0.016064 -0.295800 -0.011176 -0.342650   \n",
            "'s             0.487010 -0.263730 -0.306250  0.146840  0.203050 -0.136410   \n",
            "this           0.192230  0.285540  0.012629 -0.228840  0.940520 -0.362770   \n",
            "by            -0.115760 -0.060881 -0.134010 -0.614350 -0.197550  0.234180   \n",
            "are           -0.321440  0.115290  0.009374 -0.760130 -0.026915  0.237430   \n",
            "at             0.198580 -0.212950  0.581360  0.117030 -0.359020 -0.297980   \n",
            "as             0.083738  0.134010 -0.406470 -0.349610  0.076245 -0.372060   \n",
            "be            -0.244430  0.033343  0.062834 -0.325830  0.241490  0.262660   \n",
            "from          -0.360800  0.253370 -0.159060 -0.619260  0.370830 -0.440160   \n",
            "have          -0.170510  0.085940 -0.007724 -0.202030  0.056731  0.069374   \n",
            "...                 ...       ...       ...       ...       ...       ...   \n",
            "juin          -0.075638 -0.034237 -0.508660  0.238320  0.561780  0.202110   \n",
            "??????        -0.447400  0.123290  0.126830  0.176960  0.483460  0.360470   \n",
            "envision      -0.443760  0.104210  0.001530 -0.300340 -0.297220  0.004622   \n",
            ",2            -0.001362  0.142950 -0.110190  0.282910 -0.064431  0.342910   \n",
            "marched       -0.044126  0.226040  0.289140 -0.561490 -0.859620 -0.564180   \n",
            "alchemy       -0.263600 -0.421780  0.338160 -0.204930  0.048430  0.627840   \n",
            "kjv           -0.163530 -0.944020  0.109900 -0.494390 -0.486110  0.666560   \n",
            "gangbang      -0.376500 -0.024094  0.027268  0.473260 -0.002410  0.199550   \n",
            "abyss         -0.632800 -0.444490  0.131080 -0.271070  0.164940  0.069235   \n",
            "gould          0.031923  0.009283 -0.186950 -0.066530 -0.770560 -0.284230   \n",
            "1pm            0.187160 -0.268300  0.451270 -0.024859  0.060309  0.408650   \n",
            "heed          -0.341030  0.349530  0.748420  0.113300 -0.715110  0.493420   \n",
            "refrigerators -0.017866  0.196910 -0.220490 -0.163420 -0.148420  0.558670   \n",
            "obligated      0.041143 -0.411870 -0.221300  0.497740 -0.557900  0.752750   \n",
            "opus          -0.036992 -0.484830  0.328270 -0.038435 -0.013421  0.244040   \n",
            "hoc            0.620050 -0.357580  0.166650  0.146080  0.053640  0.228450   \n",
            "lumbar         0.597020  0.139390  0.004732 -0.548310  0.541620 -0.118240   \n",
            "benefiting     0.026328  0.020496  0.028947 -0.395600 -0.047566  0.382410   \n",
            "urgently       0.264770  0.254630  0.576720  0.101430  0.280870  0.149260   \n",
            "shovel        -0.195990  0.523600  0.613910 -0.767710 -0.295230 -0.327440   \n",
            "heightened    -0.099736 -0.011920  0.463230 -0.671180 -0.075266 -0.387070   \n",
            "blasted       -0.320570  0.085763  0.250700 -0.126280 -0.144250  0.048366   \n",
            "outskirts      0.532680  0.347440  0.190410 -0.158940 -0.624600  0.025853   \n",
            "listprice     -0.156560  0.434350 -0.937350 -0.271550  0.492060  0.366820   \n",
            "ethiopian      0.440870  0.071781 -0.221890 -0.428660 -0.734320  0.393960   \n",
            "handgun        0.329820  0.500330  0.117450 -0.503120  0.638400  0.382670   \n",
            "numeric       -0.002770  0.245270 -0.063236  0.152200 -0.058920  0.402070   \n",
            "saas           0.999040 -0.944010 -0.200950 -0.767280  0.457420 -0.473930   \n",
            "discerning    -0.237740 -0.080310 -0.223090 -0.051473  0.044399  0.429260   \n",
            "imbalance      0.032425 -0.055697  0.142750 -0.121030 -0.327740 -0.086968   \n",
            "\n",
            "                    6         7         8         9    ...       290  \\\n",
            ",             -2.987600  0.807950  0.067338 -0.131840  ...  0.136150   \n",
            "the           -4.144500  0.629320  0.336720 -0.433950  ... -0.041244   \n",
            ".             -3.817400 -0.032631 -0.625940 -0.518980  ...  0.063131   \n",
            "and           -4.158200 -0.113710 -0.108480 -0.488850  ...  0.477810   \n",
            "to            -4.632300  0.013890 -0.539280 -0.084454  ...  0.082736   \n",
            "of            -3.854700  0.528090 -0.077859 -0.407560  ... -0.021308   \n",
            "a             -4.248500  0.818270  0.240340 -0.690570  ...  0.084727   \n",
            "in            -3.764500  0.417080  0.058373 -0.067997  ...  0.095986   \n",
            "\"             -3.412100  0.026960 -0.200370 -0.530910  ...  0.196990   \n",
            "is            -4.023600  0.950460 -0.060803 -0.832600  ... -0.085202   \n",
            "for           -4.216900  0.286850 -0.307660 -0.674200  ...  0.241210   \n",
            ":             -2.511000  0.779130 -0.602890 -0.428770  ...  0.775330   \n",
            "i             -4.282300 -0.034931  0.103370 -0.689310  ... -0.152220   \n",
            ")             -2.576800  0.886590  0.210250 -0.319480  ...  0.021150   \n",
            "that          -4.776200  0.292780  0.064338 -0.574040  ...  0.149730   \n",
            "(             -2.706400  0.939840  0.205240  0.143410  ...  0.250210   \n",
            "you           -4.857800  0.059722 -0.041928 -0.679510  ...  0.089044   \n",
            "it            -4.916600  0.420020 -0.070704 -0.723140  ... -0.022828   \n",
            "on            -3.602700  0.478110  0.047945 -0.318590  ...  0.271620   \n",
            "-             -2.552600  0.129130 -0.597990 -0.663680  ...  0.425410   \n",
            "with          -4.186200  0.270890 -0.125630 -0.873790  ... -0.034727   \n",
            "'s            -3.537600  0.592380  0.216570 -1.411300  ...  0.101090   \n",
            "this          -4.309800  0.328530 -0.599500 -0.577310  ...  0.105860   \n",
            "by            -3.375400 -0.108720  0.516460 -0.093283  ... -0.038541   \n",
            "are           -4.317100  0.026367  0.279940 -0.517300  ... -0.194300   \n",
            "at            -3.312800 -0.408370  0.548420  0.011263  ... -0.278140   \n",
            "as            -4.242800  0.516060 -0.108430 -0.439180  ...  0.092935   \n",
            "be            -4.515700  0.752120  0.275280 -0.459580  ... -0.514880   \n",
            "from          -3.658900 -0.448550 -0.758400  0.158620  ...  0.244580   \n",
            "have          -4.359500  0.334720  0.260200 -0.662850  ... -0.203520   \n",
            "...                 ...       ...       ...       ...  ...       ...   \n",
            "juin          -0.242210  0.193720  0.576140  0.450520  ...  0.378620   \n",
            "??????        -0.736690  0.103290 -0.047730  0.142280  ... -0.043584   \n",
            "envision      -1.710800 -0.233470  0.469820 -0.037402  ... -0.141990   \n",
            ",2            -0.432370  0.513130 -0.024124  0.414110  ...  0.193690   \n",
            "marched       -0.631470 -0.424120  0.410910  0.436870  ... -0.570210   \n",
            "alchemy       -1.024900 -0.321750  0.225760 -0.219270  ...  0.270740   \n",
            "kjv           -0.661380  0.182950 -0.674890 -0.212600  ...  0.122000   \n",
            "gangbang      -0.463130 -0.021004 -0.437660 -0.973220  ... -0.031552   \n",
            "abyss         -1.230000  0.102300 -0.194590 -0.172170  ... -0.211950   \n",
            "gould         -0.122110 -0.554070 -0.095506 -0.214530  ... -0.131440   \n",
            "1pm           -0.566690 -0.673790  0.337270  0.251430  ...  0.394080   \n",
            "heed          -1.827200 -0.015902  0.343210 -0.026681  ...  0.129470   \n",
            "refrigerators -0.890290 -0.454730  0.047207  0.287600  ...  0.513910   \n",
            "obligated     -1.979700  0.223480 -0.093299 -0.007432  ... -0.195770   \n",
            "opus          -0.639380 -0.596310 -0.054096  0.405900  ... -0.556370   \n",
            "hoc           -1.210400  0.801160  0.210300  0.968740  ... -0.254950   \n",
            "lumbar        -0.843740  0.851940 -0.388760  0.191360  ...  0.074863   \n",
            "benefiting    -1.654400 -0.818460 -0.243850  0.067342  ... -0.238760   \n",
            "urgently      -1.998200 -0.076942 -0.106450  0.279970  ... -0.675660   \n",
            "shovel        -0.898030  0.713590  0.109870 -0.290910  ...  0.235030   \n",
            "heightened    -2.163600  0.258380  0.150060 -0.173150  ... -0.076387   \n",
            "blasted       -1.134900 -0.116820 -0.037700 -0.221890  ...  0.090773   \n",
            "outskirts     -0.815980 -0.445890 -0.360810  0.305960  ... -0.421020   \n",
            "listprice      0.080094 -0.538080 -0.367530  0.336000  ...  0.319220   \n",
            "ethiopian     -0.674070 -0.186220 -0.205080  0.143480  ... -0.449220   \n",
            "handgun       -1.090500 -0.003227 -0.611730 -0.067100  ... -0.386680   \n",
            "numeric       -1.496000  1.040100  0.252290 -0.421930  ...  0.370080   \n",
            "saas          -1.656500  0.229290  0.482370  0.458210  ... -0.084584   \n",
            "discerning    -1.928200 -0.574180  0.559410  0.248290  ...  0.408670   \n",
            "imbalance     -1.781400  0.937910 -0.180300 -0.203510  ...  0.011169   \n",
            "\n",
            "                    291       292       293       294       295       296  \\\n",
            ",              0.109990 -0.334740 -0.046109  0.107800 -0.035657 -0.012921   \n",
            "the           -0.461820  0.027903  0.546570 -0.258940  0.395150  0.261440   \n",
            ".             -0.212300 -0.300880 -0.451610  0.264800  0.075971 -0.406880   \n",
            "and           -0.021213 -0.212360  0.423740  0.140830  0.067498 -0.126750   \n",
            "to            -0.624690  0.044267  0.606730 -0.124580 -0.154430 -0.163390   \n",
            "of            -0.660190  0.090383  0.128590  0.226160  0.302350 -0.257030   \n",
            "a              0.104590 -0.253590 -0.120020 -0.389650 -0.287800  0.003670   \n",
            "in            -0.670370  0.599370 -0.146990  0.116970 -0.356280  0.112240   \n",
            "\"              0.260160 -0.598070  0.477600  0.489110 -0.338950 -0.430470   \n",
            "is            -0.018587 -0.258090  0.217390  0.215920  0.081633  0.122240   \n",
            "for           -0.261480  0.051920  0.035589 -0.155700  0.293410 -0.090526   \n",
            ":              1.247200 -0.911700 -0.126740  0.392120 -0.282310 -0.873580   \n",
            "i             -0.101190 -0.205080 -0.375180  0.216230  0.264670 -0.081656   \n",
            ")              0.083233 -0.776120 -0.124640  0.135370  0.190150  0.124500   \n",
            "that           0.002091 -0.162670 -0.012839  0.208860 -0.228570  0.226020   \n",
            "(             -0.227680 -0.645480  0.099261  0.081619 -0.208600 -0.333460   \n",
            "you           -0.184120 -0.360550 -0.120080  0.119200 -0.108770 -0.194210   \n",
            "it            -0.005892 -0.221670 -0.130030  0.158240  0.041910  0.360910   \n",
            "on             0.271120 -0.275490  0.285450  0.149250 -0.280460 -0.494460   \n",
            "-              0.243650  0.046829 -0.418520  0.776650  0.378930 -0.007552   \n",
            "with          -0.082055 -0.226320 -0.103620 -0.080037  0.011467 -0.440090   \n",
            "'s            -0.271220 -0.549860 -0.047373  0.036111  0.007525  0.457020   \n",
            "this           0.481860  0.032621 -0.186410 -0.104600 -0.306770 -0.300530   \n",
            "by            -0.344150 -0.439790 -0.486820 -0.121200  0.214940  0.400480   \n",
            "are           -0.168220 -0.111740 -0.278210  0.136520 -0.067655 -0.128240   \n",
            "at            -0.042609 -0.226710  0.498750 -0.294220  0.579100 -0.264900   \n",
            "as            -0.181430 -0.275440  0.095794  0.233040 -0.021151 -0.267060   \n",
            "be            -0.227350 -0.346350 -0.076397  0.173120  0.013200  0.230740   \n",
            "from           0.610580  0.092489 -0.326860 -0.374370  0.269270  0.001546   \n",
            "have          -0.089551 -0.030590 -0.455410 -0.039690 -0.331230 -0.115860   \n",
            "...                 ...       ...       ...       ...       ...       ...   \n",
            "juin           0.232270  0.256090  0.190290  0.397850  0.203900 -0.335310   \n",
            "??????        -0.406250 -0.470640  0.090315 -0.392570  0.004215 -0.524880   \n",
            "envision      -0.212740 -0.500460 -0.020263  0.444580  0.080521 -0.227800   \n",
            ",2             0.044445 -0.057067  0.728190  0.004271 -0.183040  0.036845   \n",
            "marched       -0.111930  0.346050  0.144780 -0.585180  1.000200 -0.251100   \n",
            "alchemy       -0.447830  0.245570 -0.067782  0.376870  0.254620 -0.657560   \n",
            "kjv           -0.369260 -0.283100  0.146250 -0.654450  0.851500 -0.417560   \n",
            "gangbang      -0.254900  0.639590  0.082024 -0.830850  0.241040  0.412340   \n",
            "abyss          0.687420  0.099302 -0.313100  0.069282  0.421590 -0.265610   \n",
            "gould         -0.204330 -0.032271  0.261120  0.149130  0.288750 -0.232070   \n",
            "1pm            0.010925  0.324090 -0.231980 -0.340220  1.053700  0.016121   \n",
            "heed          -0.241810 -0.385530  0.409210  0.101730  0.213560 -0.285750   \n",
            "refrigerators  0.381620 -0.121210 -0.127380  0.835830 -0.852870 -1.064500   \n",
            "obligated      0.153220 -0.606090 -0.091030  0.309070  0.332310  0.142580   \n",
            "opus          -0.164150 -0.245590 -0.432510 -0.257150  0.368660  0.435390   \n",
            "hoc            0.431960  0.153990  0.091650 -0.014866 -0.041897  0.153070   \n",
            "lumbar         0.055724  0.172470  0.107740 -0.484000 -0.683850 -0.011161   \n",
            "benefiting    -0.026707 -0.146630 -0.005119  0.256380  0.002170  0.032429   \n",
            "urgently      -0.355120 -1.172500 -0.265710  0.333960 -0.458470 -0.146610   \n",
            "shovel         0.025148  0.179560 -0.147130 -0.200890  0.136700  0.064690   \n",
            "heightened    -0.483300  0.144240 -0.178470  0.118150  0.130920  0.227310   \n",
            "blasted       -0.233780  0.118130 -0.013425  0.381690  0.126250  0.038706   \n",
            "outskirts     -0.071051 -0.363210 -0.109560 -0.155390  0.168940  0.500090   \n",
            "listprice      0.564930  0.167000 -0.661000  0.419690 -0.746180  0.333490   \n",
            "ethiopian      0.218380  0.036712  0.084702  0.058861 -0.545240 -0.021665   \n",
            "handgun       -0.398460  0.206390  0.103340 -0.449230  0.388670  0.233420   \n",
            "numeric       -0.288530 -0.158320  0.094051 -0.009556  0.440380 -0.179410   \n",
            "saas           0.871890  0.381620 -0.112010  0.317870 -0.062428 -0.159060   \n",
            "discerning    -0.933680 -0.711920 -0.205910  0.635190  0.080902  0.551340   \n",
            "imbalance     -0.061067  0.344110  0.496320  0.050242 -0.652280  0.248730   \n",
            "\n",
            "                    297       298       299  \n",
            ",             -0.039038  0.182740  0.146540  \n",
            "the           -0.540660  0.211990 -0.009436  \n",
            ".             -0.296960  0.159390 -0.149020  \n",
            "and           -0.370300 -0.092774  0.390580  \n",
            "to             0.053097  0.154580 -0.380530  \n",
            "of            -0.489260  0.305370  0.272730  \n",
            "a              0.022321 -0.315910 -0.356080  \n",
            "in            -0.234470  0.405500 -0.280670  \n",
            "\"             -0.087665 -0.229180 -0.004468  \n",
            "is            -0.372470  0.287900 -0.180290  \n",
            "for           -0.274330  0.019076  0.126920  \n",
            ":             -0.177600 -0.248930 -0.316300  \n",
            "i              0.100800  0.106800  0.089065  \n",
            ")             -0.316270 -0.086000 -0.701070  \n",
            "that          -0.317240  0.237490  0.311610  \n",
            "(             -0.373210 -0.121990 -0.839650  \n",
            "you           -0.414840  0.111240 -0.120420  \n",
            "it            -0.174510 -0.092674  0.201480  \n",
            "on             0.137310  0.138660  0.314000  \n",
            "-              0.378800  0.255320  0.315180  \n",
            "with           0.184810  0.196710  0.159020  \n",
            "'s            -0.189710  0.132280 -0.057165  \n",
            "this          -0.255770 -0.207130 -0.021695  \n",
            "by            -0.169470 -0.111430  0.243690  \n",
            "are           -0.287730  0.220030  0.195640  \n",
            "at             0.293370  0.194810 -0.320420  \n",
            "as            -0.196360 -0.115330  0.025416  \n",
            "be            -0.264270  0.100760 -0.332140  \n",
            "from           0.127490  0.154240 -0.290480  \n",
            "have          -0.232040  0.176050  0.215440  \n",
            "...                 ...       ...       ...  \n",
            "juin          -0.008293  0.626550  0.638390  \n",
            "??????        -0.237680  0.792250 -0.460130  \n",
            "envision       0.614060  0.753040 -0.449590  \n",
            ",2             0.414200  0.685810  0.288280  \n",
            "marched       -0.057961 -0.196430  0.085805  \n",
            "alchemy       -0.244110  0.433200 -0.068914  \n",
            "kjv            0.018546  0.462720 -0.380570  \n",
            "gangbang       0.092335 -0.099169 -0.180970  \n",
            "abyss          0.128420 -0.061969  0.050350  \n",
            "gould         -0.103230  0.386990  0.069096  \n",
            "1pm            0.090859 -0.544960 -0.208960  \n",
            "heed          -0.709200  0.115020  0.060169  \n",
            "refrigerators  0.029283 -0.160060 -0.361610  \n",
            "obligated      0.117030  0.353000 -0.415230  \n",
            "opus           0.417430  0.014383 -0.137990  \n",
            "hoc            0.432860 -0.784070 -0.214470  \n",
            "lumbar         0.401810  0.380730  0.613000  \n",
            "benefiting     0.720890  0.471100  0.242270  \n",
            "urgently       0.220150  0.165070 -0.257750  \n",
            "shovel         0.254810  0.045519  0.584270  \n",
            "heightened    -0.172000 -0.200130 -0.153260  \n",
            "blasted        0.026551 -0.311260  0.275940  \n",
            "outskirts     -0.126240 -0.293800 -0.474390  \n",
            "listprice     -0.882850  0.026019 -0.064520  \n",
            "ethiopian      0.186720 -0.523600 -0.667030  \n",
            "handgun       -0.332200 -0.461020 -0.192500  \n",
            "numeric       -0.227830 -0.094043  0.184930  \n",
            "saas           0.517490  0.257940  0.321650  \n",
            "discerning     0.025003  0.131090 -0.835710  \n",
            "imbalance     -0.562250  0.410760  0.484180  \n",
            "\n",
            "[20000 rows x 300 columns]\n"
          ],
          "name": "stdout"
        }
      ]
    },
    {
      "cell_type": "code",
      "metadata": {
        "id": "tS064dil_gXz",
        "colab_type": "code",
        "colab": {
          "base_uri": "https://localhost:8080/",
          "height": 866
        },
        "outputId": "1a8cdfe8-a9e5-47c1-d7ee-62f7d6ea2b50"
      },
      "source": [
        "from __future__ import print_function\n",
        "\n",
        "from keras.preprocessing import sequence\n",
        "from keras.models import Sequential\n",
        "from keras.layers import Dense, Embedding\n",
        "from keras.layers import LSTM\n",
        "from keras.datasets import imdb\n",
        "\n",
        "\n",
        "\n",
        "max_features = 20000\n",
        "maxlen = 80\n",
        "#batch_size = 32\n",
        "batch_size = 1000\n",
        "weights=embedding_vectors\n",
        "embedding_layer = Embedding(max_features, 300, weights=[embedding_vectors])\n",
        "\n",
        "\n",
        "(x_train, y_train), (x_test, y_test) = imdb.load_data(num_words=max_features)\n",
        "\n",
        "\n",
        "x_train = sequence.pad_sequences(x_train, maxlen=maxlen)\n",
        "x_test = sequence.pad_sequences(x_test, maxlen=maxlen)\n",
        "\n",
        "\n",
        "model2 = Sequential()\n",
        "model2.add(embedding_layer)\n",
        "model2.add(LSTM(128, dropout=0.2, recurrent_dropout=0.2))\n",
        "model2.add(Dense(1, activation='sigmoid'))\n",
        "\n",
        "# try using different optimizers and different optimizer configs\n",
        "model2.compile(loss='binary_crossentropy',\n",
        "              optimizer='adam',\n",
        "              metrics=['accuracy'])\n",
        "\n",
        "model2.fit(x_train, y_train,\n",
        "          batch_size=batch_size,\n",
        "          epochs=15,\n",
        "          validation_data=(x_test, y_test))\n",
        "\n",
        "score, acc = model2.evaluate(x_test, y_test,\n",
        "                            batch_size=batch_size)\n",
        "\n",
        "print('Test score:', score)\n",
        "print('Test accuracy:', acc)\n",
        "\n",
        "y_pred2 = model2.predict(y_test)\n",
        "\n",
        "\n",
        "#model.save('LSTM_model.h5')\n",
        "#from keras.models import load_model\n",
        "#modeL = load_model(LSTM_model.h5)"
      ],
      "execution_count": null,
      "outputs": [
        {
          "output_type": "stream",
          "text": [
            "Loading data...\n",
            "25000 train sequences\n",
            "25000 test sequences\n",
            "Pad sequences (samples x time)\n",
            "x_train shape: (25000, 80)\n",
            "x_test shape: (25000, 80)\n",
            "Build model...\n",
            "WARNING:tensorflow:From /usr/local/lib/python3.6/dist-packages/tensorflow/python/framework/op_def_library.py:263: colocate_with (from tensorflow.python.framework.ops) is deprecated and will be removed in a future version.\n",
            "Instructions for updating:\n",
            "Colocations handled automatically by placer.\n",
            "WARNING:tensorflow:From /usr/local/lib/python3.6/dist-packages/keras/backend/tensorflow_backend.py:3445: calling dropout (from tensorflow.python.ops.nn_ops) with keep_prob is deprecated and will be removed in a future version.\n",
            "Instructions for updating:\n",
            "Please use `rate` instead of `keep_prob`. Rate should be set to `rate = 1 - keep_prob`.\n",
            "Train...\n",
            "WARNING:tensorflow:From /usr/local/lib/python3.6/dist-packages/tensorflow/python/ops/math_ops.py:3066: to_int32 (from tensorflow.python.ops.math_ops) is deprecated and will be removed in a future version.\n",
            "Instructions for updating:\n",
            "Use tf.cast instead.\n",
            "Train on 25000 samples, validate on 25000 samples\n",
            "Epoch 1/15\n",
            "25000/25000 [==============================] - 12s 470us/step - loss: 0.6768 - acc: 0.5650 - val_loss: 0.6450 - val_acc: 0.6214\n",
            "Epoch 2/15\n",
            "25000/25000 [==============================] - 10s 386us/step - loss: 0.5980 - acc: 0.6739 - val_loss: 0.5269 - val_acc: 0.7337\n",
            "Epoch 3/15\n",
            "25000/25000 [==============================] - 10s 385us/step - loss: 0.4917 - acc: 0.7598 - val_loss: 0.4330 - val_acc: 0.7992\n",
            "Epoch 4/15\n",
            "25000/25000 [==============================] - 10s 384us/step - loss: 0.4053 - acc: 0.8141 - val_loss: 0.3950 - val_acc: 0.8226\n",
            "Epoch 5/15\n",
            "25000/25000 [==============================] - 10s 385us/step - loss: 0.3393 - acc: 0.8546 - val_loss: 0.3851 - val_acc: 0.8336\n",
            "Epoch 6/15\n",
            "25000/25000 [==============================] - 10s 385us/step - loss: 0.2898 - acc: 0.8795 - val_loss: 0.3929 - val_acc: 0.8376\n",
            "Epoch 7/15\n",
            "25000/25000 [==============================] - 10s 383us/step - loss: 0.2481 - acc: 0.8998 - val_loss: 0.4037 - val_acc: 0.8370\n",
            "Epoch 8/15\n",
            "25000/25000 [==============================] - 9s 379us/step - loss: 0.2046 - acc: 0.9218 - val_loss: 0.4125 - val_acc: 0.8356\n",
            "Epoch 9/15\n",
            "25000/25000 [==============================] - 10s 385us/step - loss: 0.1726 - acc: 0.9362 - val_loss: 0.4365 - val_acc: 0.8343\n",
            "Epoch 10/15\n",
            "25000/25000 [==============================] - 10s 384us/step - loss: 0.1435 - acc: 0.9476 - val_loss: 0.4748 - val_acc: 0.8297\n",
            "Epoch 11/15\n",
            "25000/25000 [==============================] - 10s 385us/step - loss: 0.1148 - acc: 0.9606 - val_loss: 0.5251 - val_acc: 0.8243\n",
            "Epoch 12/15\n",
            "25000/25000 [==============================] - 10s 385us/step - loss: 0.0977 - acc: 0.9665 - val_loss: 0.5821 - val_acc: 0.8235\n",
            "Epoch 13/15\n",
            "25000/25000 [==============================] - 10s 385us/step - loss: 0.0795 - acc: 0.9739 - val_loss: 0.6808 - val_acc: 0.8151\n",
            "Epoch 14/15\n",
            "25000/25000 [==============================] - 10s 384us/step - loss: 0.0675 - acc: 0.9772 - val_loss: 0.7000 - val_acc: 0.8180\n",
            "Epoch 15/15\n",
            "25000/25000 [==============================] - 10s 384us/step - loss: 0.0542 - acc: 0.9812 - val_loss: 0.7245 - val_acc: 0.8166\n",
            "25000/25000 [==============================] - 2s 86us/step\n",
            "Test score: 0.7245154285430908\n",
            "Test accuracy: 0.8166400003433227\n"
          ],
          "name": "stdout"
        }
      ]
    },
    {
      "cell_type": "markdown",
      "metadata": {
        "id": "GdMhkeiM1hxZ",
        "colab_type": "text"
      },
      "source": [
        "##Hybrid model\n",
        "\n",
        "+ Build and train a hybrid model for taking into account word and sentence labels. What is the accuracy of this classifier when applied the `imdb` dataset ?\n"
      ]
    },
    {
      "cell_type": "code",
      "metadata": {
        "id": "A7WUS5qfjagE",
        "colab_type": "code",
        "colab": {}
      },
      "source": [
        "#using predictions from the first model - y_pred and predictions from\n",
        "#the second model - y_pred2 and concatenating them together.\n",
        "X = np.c_[y_pred,y_pred2]\n",
        "y = y_test"
      ],
      "execution_count": null,
      "outputs": []
    },
    {
      "cell_type": "code",
      "metadata": {
        "id": "ARaqJt1-HYsl",
        "colab_type": "code",
        "colab": {
          "base_uri": "https://localhost:8080/",
          "height": 33
        },
        "outputId": "de1fe08a-b077-481b-d5f4-afe2afcaf25f"
      },
      "source": [
        ""
      ],
      "execution_count": null,
      "outputs": [
        {
          "output_type": "execute_result",
          "data": {
            "text/plain": [
              "array([[1.        , 0.38161117]])"
            ]
          },
          "metadata": {
            "tags": []
          },
          "execution_count": 129
        }
      ]
    },
    {
      "cell_type": "code",
      "metadata": {
        "id": "YgjyQQe5j0vL",
        "colab_type": "code",
        "colab": {}
      },
      "source": [
        "#splitting the previous test data into train and test set\n",
        "X_train, X_test, y_train, y_test = train_test_split(X, y, test_size=0.2, random_state = 42)"
      ],
      "execution_count": null,
      "outputs": []
    },
    {
      "cell_type": "code",
      "metadata": {
        "id": "QBOSkKkOUhrv",
        "colab_type": "code",
        "colab": {
          "base_uri": "https://localhost:8080/",
          "height": 553
        },
        "outputId": "5b1e4d6c-ef48-4f99-adc6-af7258f8abc3"
      },
      "source": [
        "#Applying neural network to newly created dataset. The accuracy of the hybrid\n",
        "#model(model 3) is expected to be better than from the sentiment model(model 1) and \n",
        "#LSTM model (model 2)\n",
        "\n",
        "\n",
        "batch_size = 32\n",
        "\n",
        "\n",
        "model3a = Sequential([\n",
        "    Dense(2, activation='relu'),\n",
        "    Dense(8, activation='relu'),\n",
        "    Dense(8, activation='relu'),\n",
        "    Dense(1, activation='sigmoid')\n",
        "])\n",
        "\n",
        "# try using different optimizers and different optimizer configs\n",
        "model3a.compile(loss='binary_crossentropy',\n",
        "              optimizer='adam',\n",
        "              metrics=['accuracy'])\n",
        "\n",
        "\n",
        "model3a.fit(X_train, y_train,\n",
        "          batch_size=batch_size,\n",
        "          epochs=15)\n",
        "          #validation_data=(X_test, y_test))\n",
        "      \n",
        "\n",
        "score, acc = model3a.evaluate(X_test, y_test,\n",
        "                            batch_size=batch_size)\n",
        "                            \n",
        "\n",
        "print('Test score:', score)\n",
        "print('Test accuracy:', acc)\n"
      ],
      "execution_count": null,
      "outputs": [
        {
          "output_type": "stream",
          "text": [
            "Epoch 1/15\n",
            "20000/20000 [==============================] - 4s 176us/step - loss: 0.5784 - acc: 0.6882\n",
            "Epoch 2/15\n",
            "20000/20000 [==============================] - 3s 153us/step - loss: 0.4383 - acc: 0.7958\n",
            "Epoch 3/15\n",
            "20000/20000 [==============================] - 3s 154us/step - loss: 0.4262 - acc: 0.7958\n",
            "Epoch 4/15\n",
            "20000/20000 [==============================] - 3s 153us/step - loss: 0.4245 - acc: 0.7958\n",
            "Epoch 5/15\n",
            "20000/20000 [==============================] - 3s 154us/step - loss: 0.4243 - acc: 0.7958\n",
            "Epoch 6/15\n",
            "20000/20000 [==============================] - 3s 153us/step - loss: 0.4242 - acc: 0.7958\n",
            "Epoch 7/15\n",
            "20000/20000 [==============================] - 3s 152us/step - loss: 0.4242 - acc: 0.7958\n",
            "Epoch 8/15\n",
            "20000/20000 [==============================] - 3s 153us/step - loss: 0.4241 - acc: 0.7958\n",
            "Epoch 9/15\n",
            "20000/20000 [==============================] - 3s 154us/step - loss: 0.4241 - acc: 0.7958\n",
            "Epoch 10/15\n",
            "20000/20000 [==============================] - 3s 154us/step - loss: 0.4241 - acc: 0.7958\n",
            "Epoch 11/15\n",
            "20000/20000 [==============================] - 3s 153us/step - loss: 0.4241 - acc: 0.7958\n",
            "Epoch 12/15\n",
            "20000/20000 [==============================] - 3s 152us/step - loss: 0.4241 - acc: 0.7958\n",
            "Epoch 13/15\n",
            "20000/20000 [==============================] - 3s 153us/step - loss: 0.4241 - acc: 0.7958\n",
            "Epoch 14/15\n",
            "20000/20000 [==============================] - 3s 153us/step - loss: 0.4241 - acc: 0.7958\n",
            "Epoch 15/15\n",
            "20000/20000 [==============================] - 3s 153us/step - loss: 0.4241 - acc: 0.7958\n",
            "5000/5000 [==============================] - 0s 81us/step\n",
            "Test score: 0.43907452840805056\n",
            "Test accuracy: 0.7832\n"
          ],
          "name": "stdout"
        }
      ]
    },
    {
      "cell_type": "code",
      "metadata": {
        "id": "ylnjSnjwchmD",
        "colab_type": "code",
        "colab": {
          "base_uri": "https://localhost:8080/",
          "height": 553
        },
        "outputId": "30112d91-311e-4fae-ff2a-49ae8f65268b"
      },
      "source": [
        "batch_size = 32\n",
        "\n",
        "\n",
        "model3c = Sequential([\n",
        "    Dense(2, activation='relu'),\n",
        "    Dense(8, activation='relu'),\n",
        "    Dense(8, activation='relu'),\n",
        "    Dense(8, activation='relu'),\n",
        "    Dense(1, activation='sigmoid')\n",
        "])\n",
        "\n",
        "# try using different optimizers and different optimizer configs\n",
        "model3c.compile(loss='binary_crossentropy',\n",
        "              optimizer='adam',\n",
        "              metrics=['accuracy'])\n",
        "\n",
        "\n",
        "model3c.fit(X_train, y_train,\n",
        "          batch_size=batch_size,\n",
        "          epochs=15)\n",
        "          #validation_data=(X_test, y_test))\n",
        "      \n",
        "\n",
        "score, acc = model3c.evaluate(X_test, y_test,\n",
        "                            batch_size=batch_size)\n",
        "                            \n",
        "\n",
        "print('Test score:', score)\n",
        "print('Test accuracy:', acc)\n"
      ],
      "execution_count": null,
      "outputs": [
        {
          "output_type": "stream",
          "text": [
            "Epoch 1/15\n",
            "20000/20000 [==============================] - 4s 201us/step - loss: 0.6100 - acc: 0.6446\n",
            "Epoch 2/15\n",
            "20000/20000 [==============================] - 3s 168us/step - loss: 0.5235 - acc: 0.7068\n",
            "Epoch 3/15\n",
            "20000/20000 [==============================] - 3s 167us/step - loss: 0.5228 - acc: 0.7068\n",
            "Epoch 4/15\n",
            "20000/20000 [==============================] - 3s 167us/step - loss: 0.5224 - acc: 0.7068\n",
            "Epoch 5/15\n",
            "20000/20000 [==============================] - 3s 167us/step - loss: 0.5226 - acc: 0.7068\n",
            "Epoch 6/15\n",
            "20000/20000 [==============================] - 3s 168us/step - loss: 0.5225 - acc: 0.7068\n",
            "Epoch 7/15\n",
            "20000/20000 [==============================] - 3s 167us/step - loss: 0.4933 - acc: 0.7068\n",
            "Epoch 8/15\n",
            "20000/20000 [==============================] - 3s 167us/step - loss: 0.4108 - acc: 0.7062\n",
            "Epoch 9/15\n",
            "20000/20000 [==============================] - 3s 169us/step - loss: 0.4022 - acc: 0.7160\n",
            "Epoch 10/15\n",
            "20000/20000 [==============================] - 3s 167us/step - loss: 0.0752 - acc: 1.0000\n",
            "Epoch 11/15\n",
            "20000/20000 [==============================] - 3s 168us/step - loss: 0.0026 - acc: 1.0000\n",
            "Epoch 12/15\n",
            "20000/20000 [==============================] - 3s 170us/step - loss: 9.0546e-04 - acc: 1.0000\n",
            "Epoch 13/15\n",
            "20000/20000 [==============================] - 3s 167us/step - loss: 4.5162e-04 - acc: 1.0000\n",
            "Epoch 14/15\n",
            "20000/20000 [==============================] - 3s 167us/step - loss: 2.5766e-04 - acc: 1.0000\n",
            "Epoch 15/15\n",
            "20000/20000 [==============================] - 3s 168us/step - loss: 1.5694e-04 - acc: 1.0000\n",
            "5000/5000 [==============================] - 0s 81us/step\n",
            "Test score: 0.00011903894118731841\n",
            "Test accuracy: 1.0\n"
          ],
          "name": "stdout"
        }
      ]
    },
    {
      "cell_type": "markdown",
      "metadata": {
        "id": "-0kptWGY42at",
        "colab_type": "text"
      },
      "source": [
        "## PART 4"
      ]
    },
    {
      "cell_type": "code",
      "metadata": {
        "id": "1uslT_Sz0zqb",
        "colab_type": "code",
        "colab": {
          "base_uri": "https://localhost:8080/",
          "height": 33
        },
        "outputId": "5c69aa2e-7f4e-43a9-d567-4e1cd82874fd"
      },
      "source": [
        "imdb_words = imdb.get_word_index()\n",
        "#search for the word in the dictionary to get it's key\n",
        "vec = imdb_words['no']\n",
        "#model2.predict(vec)\n",
        "\n",
        "\n",
        "#Get imdb score, predict on it, calculate the mean of the sentence, if word is not in imdb, returns 0 for that word \n",
        "\n",
        "def get_sentiment_model2(text):\n",
        "  words = text.split()\n",
        "  vects = []\n",
        "  for x in words:\n",
        "    vec = imdb_words.get(x, 0)\n",
        "    vects.append(vec)\n",
        " # print(vects)\n",
        "  pred = model2.predict(vects)\n",
        "  sentiment = np.mean(pred)\n",
        "  return sentiment\n"
      ],
      "execution_count": null,
      "outputs": [
        {
          "output_type": "stream",
          "text": [
            "0.55395913\n"
          ],
          "name": "stdout"
        }
      ]
    },
    {
      "cell_type": "code",
      "metadata": {
        "id": "HPOuAmRm5LZF",
        "colab_type": "code",
        "colab": {
          "base_uri": "https://localhost:8080/",
          "height": 50
        },
        "outputId": "73180e18-4ef1-4e7a-eb51-3c59170d2a5a"
      },
      "source": [
        "#model 1\n",
        "print(text_to_sentiment('hello, my name is'))\n",
        "\n",
        "#model 2\n",
        "print(get_sentiment_model2('hello, my name is'))\n"
      ],
      "execution_count": null,
      "outputs": [
        {
          "output_type": "stream",
          "text": [
            "2.304105891776296\n",
            "0.55395913\n"
          ],
          "name": "stdout"
        }
      ]
    },
    {
      "cell_type": "code",
      "metadata": {
        "id": "NNavRdQYGnOJ",
        "colab_type": "code",
        "colab": {}
      },
      "source": [
        "#model 3 hybrid predictions \n",
        "#model3.predict(([[1., 0.38161117]]))\n",
        "\n",
        "#function that takes predictions of model1 and model 2 and returns predictions of model 3\n",
        "\n",
        "\n",
        "#Apply the above function the the names"
      ],
      "execution_count": null,
      "outputs": []
    },
    {
      "cell_type": "code",
      "metadata": {
        "id": "MgYujXueILNB",
        "colab_type": "code",
        "colab": {}
      },
      "source": [
        ""
      ],
      "execution_count": null,
      "outputs": []
    }
  ]
}